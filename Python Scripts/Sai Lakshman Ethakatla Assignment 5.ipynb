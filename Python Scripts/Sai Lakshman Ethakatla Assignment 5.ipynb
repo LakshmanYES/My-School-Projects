{
 "cells": [
  {
   "cell_type": "markdown",
   "metadata": {},
   "source": [
    "### Program Name : Computing BMI for trainees using functions in Python"
   ]
  },
  {
   "cell_type": "markdown",
   "metadata": {},
   "source": [
    "### Program Objective: \n",
    "\n",
    "<font size = 1>\n",
    "    \n",
    "\n",
    "    \n",
    "</font>\n",
    "    "
   ]
  },
  {
   "cell_type": "code",
   "execution_count": 1,
   "metadata": {},
   "outputs": [],
   "source": [
    "# Your program code should begin in this cell, starting on line 3\n",
    "\n",
    "def open_files():\n",
    "    '''defines the file path where the input and output files exist. Also opens both the files for processing'''\n",
    "    FILE_PATH = '/users/cis5357/Assignments/'\n",
    "\n",
    "    trainee_input_file = open(FILE_PATH + 'Trainee-Data.csv', 'r')    #opening the input file in read-only mode\n",
    "    bmi_output_file = open(FILE_PATH + 'BMI-Data.csv', 'w')           #opening the output file in write mode\n",
    "    \n",
    "    return trainee_input_file, bmi_output_file                        #returns input file and output file elements"
   ]
  },
  {
   "cell_type": "code",
   "execution_count": 2,
   "metadata": {},
   "outputs": [],
   "source": [
    "def print_headings():\n",
    "    '''prints the headers in the console'''\n",
    "    print(f'The Current Status of Weight-Loss Training')                     #printing the output headers in the console\n",
    "    print(65*'-') \n",
    "    print(f'NAME\\t\\tGender\\tWeight\\t Height\\t  BMI\\tWeight-Status')\n",
    "    print(65*'-') "
   ]
  },
  {
   "cell_type": "code",
   "execution_count": 3,
   "metadata": {},
   "outputs": [],
   "source": [
    "def get_trainee_record(trainee_input_file):\n",
    "    '''reads the trainee record from the input file and returns it'''\n",
    "    trainee_record = trainee_input_file.readline().rstrip('\\n')              #read an entire line from the input file\n",
    "    return trainee_record                                                    #returns the trainee record"
   ]
  },
  {
   "cell_type": "code",
   "execution_count": 4,
   "metadata": {},
   "outputs": [],
   "source": [
    "def process_trainee_record(trainee_record):\n",
    "    '''processes the trainee record to be used for the output'''\n",
    "    trainee_record_split = trainee_record.split(',')       #break up line read into individual parts on comma seperator\n",
    "    trainee_name = trainee_record_split[0]                 #after the split, the first item (O index) is trainee's name\n",
    "    trainee_wt = float(trainee_record_split[1])            #second item (1 index) is the trainee's weight\n",
    "    trainee_ht = float(trainee_record_split[2])            #third item (2 index) is the trainee's height\n",
    "    trainee_gender = trainee_record_split[3]               #fourth item(3 index) is the trainee's gender\n",
    "    \n",
    "    bmi, bmi_round = compute_bmi(trainee_wt, trainee_ht)   #computing the bmi and rounded bmi using the compute_bmi function\n",
    "    weight_status = determine_status(bmi_round)            #determining the weight_status based on rounded bmi value\n",
    "    \n",
    "    return trainee_name,trainee_gender,trainee_wt,trainee_ht,bmi,bmi_round,weight_status"
   ]
  },
  {
   "cell_type": "code",
   "execution_count": 5,
   "metadata": {},
   "outputs": [],
   "source": [
    "def compute_bmi(trainee_wt, trainee_ht):\n",
    "    '''calculates the bmi using the height and weight values of the trainee'''\n",
    "    bmi = trainee_wt * 703/trainee_ht**2\n",
    "    bmi_round = round(bmi,1)                               #rounding off the bmi to 1 decimal place\n",
    "    \n",
    "    return bmi, bmi_round"
   ]
  },
  {
   "cell_type": "code",
   "execution_count": 6,
   "metadata": {},
   "outputs": [],
   "source": [
    "def determine_status(bmi_round):\n",
    "    '''determines the weight status of the trainee based on the rounded bmi value'''\n",
    "    weight_status = ''\n",
    "    MAX_FOR_UNDERWEIGHT = 18.5\n",
    "    MIN_FOR_OPTIMALWEIGHT = 18.5\n",
    "    MAX_FOR_OPTIMALWEIGHT = 24.9\n",
    "    MIN_FOR_OVERWEIGHT = 25.0\n",
    "    MAX_FOR_OVERWEIGHT = 29.9\n",
    "    MIN_FOR_OBESE = 30.0\n",
    "    \n",
    "    if bmi_round < MAX_FOR_UNDERWEIGHT:\n",
    "        weight_status = 'Underweight'\n",
    "    elif MIN_FOR_OPTIMALWEIGHT <= bmi_round <= MAX_FOR_OPTIMALWEIGHT:\n",
    "        weight_status = 'Optimal Weight'\n",
    "    elif bmi_round>=MIN_FOR_OVERWEIGHT and bmi_round<=MAX_FOR_OVERWEIGHT:\n",
    "        weight_status = 'Overweight'\n",
    "    elif bmi_round >= MIN_FOR_OBESE:\n",
    "        weight_status = 'Obese'\n",
    "        \n",
    "    return weight_status"
   ]
  },
  {
   "cell_type": "code",
   "execution_count": 7,
   "metadata": {},
   "outputs": [],
   "source": [
    "def display_and_write_output(bmi_output_file,trainee_name,trainee_gender,trainee_wt,trainee_ht,bmi_round,weight_status,bmi):\n",
    "    '''function used to display the output on console and write the formatted output to the output file'''    \n",
    "    write_bmi_record(bmi_output_file,trainee_name,trainee_gender,trainee_wt,trainee_ht,bmi,weight_status)\n",
    "    display_bmi_record(trainee_name,trainee_gender,trainee_wt,trainee_ht,bmi_round,weight_status)"
   ]
  },
  {
   "cell_type": "code",
   "execution_count": 8,
   "metadata": {},
   "outputs": [],
   "source": [
    "def write_bmi_record(bmi_output_file,trainee_name,trainee_gender,trainee_wt,trainee_ht,bmi,weight_status):\n",
    "    '''writes the bmi record into the output file'''\n",
    "    bmi_record_out = f'{trainee_name},{trainee_gender},{trainee_wt},{trainee_ht},{bmi},{weight_status}'\n",
    "    bmi_output_file.write(bmi_record_out+'\\n')                      #writing the bmi record to the output file"
   ]
  },
  {
   "cell_type": "code",
   "execution_count": 9,
   "metadata": {},
   "outputs": [],
   "source": [
    "def display_bmi_record(trainee_name,trainee_gender,trainee_wt,trainee_ht,bmi_round,weight_status):\n",
    "    '''displays the bmi record on the console'''\n",
    "    bmi_record_console = f'{trainee_name:<8s}\\t{trainee_gender:<6s}\\t{trainee_wt:>6.1f}\\t{trainee_ht:>6.1f}\\t{bmi_round:>6.1f}\\t{weight_status:<10s}'\n",
    "    print(bmi_record_console)                                       #priting the bmi record to the console"
   ]
  },
  {
   "cell_type": "code",
   "execution_count": 10,
   "metadata": {},
   "outputs": [],
   "source": [
    "def close_files(trainee_input_file,bmi_output_file):\n",
    "    '''closes both the input and output file after processing is completed'''\n",
    "    trainee_input_file.close()                       #closing input file\n",
    "    bmi_output_file.close()                          #closing output file"
   ]
  },
  {
   "cell_type": "code",
   "execution_count": 11,
   "metadata": {},
   "outputs": [],
   "source": [
    "def print_footer(num_of_trainees,num_of_bmi_recs):\n",
    "    '''prints the footers in the console'''\n",
    "    print(f'\\nProgram processed {num_of_trainees} trainee records from Trainee-Data.csv file.\\n{num_of_bmi_recs} records were written to the BMI-Data.csv file')  "
   ]
  },
  {
   "cell_type": "code",
   "execution_count": 12,
   "metadata": {},
   "outputs": [],
   "source": [
    "def main():\n",
    "    '''This is the main fucntion which executes the whole flow of the program'''\n",
    "    num_of_trainees = 0\n",
    "    num_of_bmi_recs = 0\n",
    "    \n",
    "    trainee_input_file, bmi_output_file = open_files()          #invoking the open_files function\n",
    "    trainee_record = get_trainee_record(trainee_input_file)     #invoking the get_trainee_record function\n",
    "    \n",
    "    print_headings()                                            #invoking the print_headings function\n",
    "    while trainee_record!='':\n",
    "        num_of_trainees += 1\n",
    "        trainee_name,trainee_gender,trainee_wt,trainee_ht,bmi,bmi_round,weight_status = process_trainee_record(trainee_record)\n",
    "        display_and_write_output(bmi_output_file,trainee_name,trainee_gender,trainee_wt,trainee_ht,bmi_round,weight_status,bmi)\n",
    "        num_of_bmi_recs += 1\n",
    "        trainee_record = get_trainee_record(trainee_input_file) \n",
    "    \n",
    "    close_files(trainee_input_file,bmi_output_file)             #invoking the close_files function\n",
    "    print_footer(num_of_trainees,num_of_bmi_recs)               #invoking the print_footer function"
   ]
  },
  {
   "cell_type": "code",
   "execution_count": 109,
   "metadata": {},
   "outputs": [
    {
     "name": "stdout",
     "output_type": "stream",
     "text": [
      "The Current Status of Weight-Loss Training\n",
      "-----------------------------------------------------------------\n",
      "NAME\t\tGender\tWeight\t Height\t  BMI\tWeight-Status\n",
      "-----------------------------------------------------------------\n",
      "Avi     \tMale  \t 105.0\t  58.0\t  21.9\tOptimal Weight\n",
      "Tanya   \tFemale\t  99.5\t  59.7\t  19.6\tOptimal Weight\n",
      "Axel    \tMale  \t 135.0\t  72.0\t  18.3\tUnderweight\n",
      "Karla   \tFemale\t 142.2\t  60.0\t  27.8\tOverweight\n",
      "Andre   \tMale  \t 144.3\t  62.5\t  26.0\tOverweight\n",
      "Callum  \tMale  \t 184.0\t  64.0\t  31.6\tObese     \n",
      "Mykayla \tFemale\t 108.0\t  62.0\t  19.8\tOptimal Weight\n",
      "\n",
      "Program processed 7 trainee records from Trainee-Data.csv file.\n",
      "7 records were written to the BMI-Data.csv file\n"
     ]
    }
   ],
   "source": [
    "main()"
   ]
  },
  {
   "cell_type": "code",
   "execution_count": 13,
   "metadata": {},
   "outputs": [
    {
     "name": "stdout",
     "output_type": "stream",
     "text": [
      "The Current Status of Weight-Loss Training\n",
      "-----------------------------------------------------------------\n",
      "NAME\t\tGender\tWeight\t Height\t  BMI\tWeight-Status\n",
      "-----------------------------------------------------------------\n",
      "Avi     \tMale  \t 105.0\t  58.0\t  21.9\tOptimal Weight\n",
      "Tanya   \tFemale\t  99.5\t  59.7\t  19.6\tOptimal Weight\n",
      "Axel    \tMale  \t 135.0\t  72.0\t  18.3\tUnderweight\n",
      "Karla   \tFemale\t 142.2\t  60.0\t  27.8\tOverweight\n",
      "Andre   \tMale  \t 144.3\t  62.5\t  26.0\tOverweight\n",
      "Callum  \tMale  \t 184.0\t  64.0\t  31.6\tObese     \n",
      "Mykayla \tFemale\t 108.0\t  62.0\t  19.8\tOptimal Weight\n",
      "\n",
      "Program processed 7 trainee records from Trainee-Data.csv file.\n",
      "7 records were written to the BMI-Data.csv file\n"
     ]
    }
   ],
   "source": [
    "main()"
   ]
  },
  {
   "cell_type": "code",
   "execution_count": null,
   "metadata": {},
   "outputs": [],
   "source": [
    "Avi,Male,105.0,58.0,21.942627824019024,Optimal Weight\n",
    "Tanya,Female,99.5,59.7,19.625907314349526,Optimal Weight\n",
    "Axel,Male,135.0,72.0,18.307291666666668,Underweight\n",
    "Karla,Female,142.2,60.0,27.768499999999996,Overweight\n",
    "Andre,Male,144.3,62.5,25.9693824,Overweight\n",
    "Callum,Male,184.0,64.0,31.580078125,Obese\n",
    "Mykayla,Female,108.0,62.0,19.75130072840791,Optimal Weight\n"
   ]
  }
 ],
 "metadata": {
  "kernelspec": {
   "display_name": "Python 3 (ipykernel)",
   "language": "python",
   "name": "python3"
  },
  "language_info": {
   "codemirror_mode": {
    "name": "ipython",
    "version": 3
   },
   "file_extension": ".py",
   "mimetype": "text/x-python",
   "name": "python",
   "nbconvert_exporter": "python",
   "pygments_lexer": "ipython3",
   "version": "3.9.7"
  }
 },
 "nbformat": 4,
 "nbformat_minor": 4
}
