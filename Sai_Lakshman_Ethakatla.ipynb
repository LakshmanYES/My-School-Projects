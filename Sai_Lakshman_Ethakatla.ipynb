{
  "nbformat": 4,
  "nbformat_minor": 0,
  "metadata": {
    "colab": {
      "name": "Sai Lakshman Ethakatla.ipynb",
      "provenance": [],
      "collapsed_sections": [],
      "toc_visible": true,
      "mount_file_id": "18PMa_fhRRbVo8_Q5KfXqNmMpYbThOlCO",
      "authorship_tag": "ABX9TyOHN6qST7GG5b4ZrjXyHovx",
      "include_colab_link": true
    },
    "kernelspec": {
      "name": "python3",
      "display_name": "Python 3"
    },
    "language_info": {
      "name": "python"
    }
  },
  "cells": [
    {
      "cell_type": "markdown",
      "metadata": {
        "id": "view-in-github",
        "colab_type": "text"
      },
      "source": [
        "<a href=\"https://colab.research.google.com/github/LakshmanYES/My-School-Projects/blob/main/Sai_Lakshman_Ethakatla.ipynb\" target=\"_parent\"><img src=\"https://colab.research.google.com/assets/colab-badge.svg\" alt=\"Open In Colab\"/></a>"
      ]
    },
    {
      "cell_type": "code",
      "source": [
        "!pip install --upgrade --no-cache-dir gdown\n",
        "!gdown --id 1908GDMdrhDN7sTaI_FelSHxbwcNM1EzR -O /content/drive/MyDrive/data/goodreads_reviews_children.json.gz\n",
        "!gunzip /content/drive/MyDrive/data/goodreads_reviews_children.json.gz "
      ],
      "metadata": {
        "id": "jsmsVb5Id9nL",
        "colab": {
          "base_uri": "https://localhost:8080/"
        },
        "outputId": "edd78401-9b53-44a2-e1e1-743774dc3adb"
      },
      "execution_count": null,
      "outputs": [
        {
          "output_type": "stream",
          "name": "stdout",
          "text": [
            "Requirement already satisfied: gdown in /usr/local/lib/python3.7/dist-packages (4.4.0)\n",
            "Requirement already satisfied: requests[socks] in /usr/local/lib/python3.7/dist-packages (from gdown) (2.23.0)\n",
            "Requirement already satisfied: tqdm in /usr/local/lib/python3.7/dist-packages (from gdown) (4.63.0)\n",
            "Requirement already satisfied: filelock in /usr/local/lib/python3.7/dist-packages (from gdown) (3.6.0)\n",
            "Requirement already satisfied: beautifulsoup4 in /usr/local/lib/python3.7/dist-packages (from gdown) (4.6.3)\n",
            "Requirement already satisfied: six in /usr/local/lib/python3.7/dist-packages (from gdown) (1.15.0)\n",
            "Requirement already satisfied: certifi>=2017.4.17 in /usr/local/lib/python3.7/dist-packages (from requests[socks]->gdown) (2021.10.8)\n",
            "Requirement already satisfied: urllib3!=1.25.0,!=1.25.1,<1.26,>=1.21.1 in /usr/local/lib/python3.7/dist-packages (from requests[socks]->gdown) (1.24.3)\n",
            "Requirement already satisfied: idna<3,>=2.5 in /usr/local/lib/python3.7/dist-packages (from requests[socks]->gdown) (2.10)\n",
            "Requirement already satisfied: chardet<4,>=3.0.2 in /usr/local/lib/python3.7/dist-packages (from requests[socks]->gdown) (3.0.4)\n",
            "Requirement already satisfied: PySocks!=1.5.7,>=1.5.6 in /usr/local/lib/python3.7/dist-packages (from requests[socks]->gdown) (1.7.1)\n",
            "/usr/local/lib/python3.7/dist-packages/gdown/cli.py:131: FutureWarning: Option `--id` was deprecated in version 4.3.1 and will be removed in 5.0. You don't need to pass it anymore to use a file ID.\n",
            "  category=FutureWarning,\n",
            "Downloading...\n",
            "From: https://drive.google.com/uc?id=1908GDMdrhDN7sTaI_FelSHxbwcNM1EzR\n",
            "To: /content/drive/MyDrive/data/goodreads_reviews_children.json.gz\n",
            "100% 172M/172M [00:01<00:00, 160MB/s]\n"
          ]
        }
      ]
    },
    {
      "cell_type": "code",
      "source": [
        "# Spark init\n",
        "!wget -q https://dlcdn.apache.org/spark/spark-3.1.2/spark-3.1.2-bin-hadoop2.7.tgz \n",
        "!tar xf spark-3.1.2-bin-hadoop2.7.tgz\n",
        "import os\n",
        "os.environ[\"JAVA_HOME\"] = \"/usr/lib/jvm/default-java\"\n",
        "os.environ[\"SPARK_HOME\"] = \"/content/spark-3.1.2-bin-hadoop2.7\"\n",
        "!pip install -q findspark\n",
        "import findspark\n",
        "findspark.init()"
      ],
      "metadata": {
        "id": "HB9zB8AgwtBF"
      },
      "execution_count": null,
      "outputs": []
    },
    {
      "cell_type": "code",
      "source": [
        "from pyspark.sql.types import *\n",
        "from pyspark.sql import SparkSession\n",
        "\n",
        "spark = SparkSession.builder\\\n",
        "        .master(\"local\")\\\n",
        "        .appName(\"Colab\")\\\n",
        "        .config('spark.ui.port', '4050')\\\n",
        "        .getOrCreate()"
      ],
      "metadata": {
        "id": "fXtNtZ01d9uc"
      },
      "execution_count": null,
      "outputs": []
    },
    {
      "cell_type": "code",
      "source": [
        "#To load The data\n",
        "df_data_books = spark.read.json(\"/content/drive/MyDrive/data/goodreads_reviews_children.json\")\n",
        "df_data_books.show()"
      ],
      "metadata": {
        "id": "4ZKFE4S5d9w9",
        "colab": {
          "base_uri": "https://localhost:8080/"
        },
        "outputId": "0bccd007-0833-4f5e-8037-567e8d90a81d"
      },
      "execution_count": null,
      "outputs": [
        {
          "output_type": "stream",
          "name": "stdout",
          "text": [
            "+--------+--------------------+--------------------+----------+-------+------+--------------------+--------------------+--------------------+--------------------+--------------------+\n",
            "| book_id|          date_added|        date_updated|n_comments|n_votes|rating|             read_at|           review_id|         review_text|          started_at|             user_id|\n",
            "+--------+--------------------+--------------------+----------+-------+------+--------------------+--------------------+--------------------+--------------------+--------------------+\n",
            "|23310161|Tue Nov 17 11:37:...|Tue Nov 17 11:38:...|         0|      7|     4|                    |f4b4b050f4be00e92...|Fun sequel to the...|                    |8842281e1d1347389...|\n",
            "|17290220|Sat Nov 08 08:54:...|Wed Jan 25 13:56:...|         0|      4|     5|Tue Jan 24 00:00:...|22d424a2b0057b18f...|One of my favorit...|                    |8842281e1d1347389...|\n",
            "| 6954929|Thu Oct 23 13:46:...|Thu Oct 23 13:47:...|         1|      6|     5|                    |50ed4431c451d5677...|One of the best a...|                    |8842281e1d1347389...|\n",
            "|  460548|Mon Dec 02 10:43:...|Wed Mar 22 11:47:...|         4|      5|     5|                    |1e4de11dd4fa4b7ff...|My daughter is lo...|                    |8842281e1d1347389...|\n",
            "|11474551|Wed May 11 22:38:...|Sun Jan 29 15:56:...|         0|      5|     5|Wed May 11 00:00:...|2065145714bf74708...|A friend sent me ...|Wed May 11 00:00:...|8842281e1d1347389...|\n",
            "|  304889|Fri Aug 15 15:42:...|Fri Aug 15 15:43:...|         0|      1|     5|                    |eb8a5303f86f1687f...|One of my favorit...|                    |8842281e1d1347389...|\n",
            "|   10365|Thu Jan 03 10:24:...|Wed Mar 22 11:45:...|         0|      0|     5|Fri Apr 01 00:00:...|b953295db05c92394...|    Loved this book.|                    |8842281e1d1347389...|\n",
            "|   14366|Thu Apr 12 12:07:...|Wed Mar 22 11:45:...|         8|      3|     4|                    |0680dc3f8aadd7f72...|I *loved* this bo...|                    |8842281e1d1347389...|\n",
            "|   19543|Wed Dec 27 14:19:...|Wed Mar 22 11:44:...|         3|     17|     5|Wed Jun 01 00:00:...|191081e3eba11eef6...|I didn't want to ...|                    |8842281e1d1347389...|\n",
            "|   10959|Sun Dec 17 14:27:...|Thu Jul 31 00:32:...|         1|      2|     0|                    |8f7463f1f34c782de...|A friend of Eliza...|                    |8842281e1d1347389...|\n",
            "|23302416|Wed Jan 21 18:40:...|Wed Oct 26 03:44:...|         0|      0|     5|                    |84c0936a0f9868f38...|I read this book ...|                    |7504b2aee1ecb5b28...|\n",
            "|17381987|Fri Sep 11 10:15:...|Sat Nov 21 14:01:...|         0|      0|     5|                    |2eea8fef796c18d54...|         Fantastic !|                    |fe0df2eff573e75c0...|\n",
            "|   65118|Wed Jul 06 10:05:...|Wed Jul 06 10:07:...|         0|      0|     2|Wed Jun 01 00:00:...|64d110fcb69666982...|I'm getting bored...|                    |4b3636a043e5c99fa...|\n",
            "|17722973|Tue Sep 22 10:18:...|Mon Sep 28 10:12:...|         0|      0|     3|Fri Sep 25 00:00:...|978f0a0be26c3d77a...|I want to love th...|Tue Sep 22 00:00:...|4b3636a043e5c99fa...|\n",
            "| 5972040|Thu May 01 13:21:...|Mon May 12 11:31:...|         0|      0|     2|Mon May 12 11:31:...|d4881d52bd590f714...|The characters ju...|Thu May 01 00:00:...|4b3636a043e5c99fa...|\n",
            "|   39988|Sun Apr 27 13:47:...|Sun Sep 28 07:09:...|         0|      0|     3|Sun Sep 28 07:09:...|96140a9a366b326ec...|Probably one of m...|Thu Sep 18 23:15:...|4b3636a043e5c99fa...|\n",
            "|    6310|Sun Apr 27 13:47:...|Sun Apr 27 13:47:...|         0|      0|     5|                    |484c97ecdd391624a...|I never ever ever...|                    |4b3636a043e5c99fa...|\n",
            "|25311520|Wed Sep 06 19:34:...|Wed Sep 13 08:00:...|         0|      1|     5|Wed Sep 13 08:00:...|36567650cbe4e3a22...|Wonderful middle ...|Wed Sep 06 19:34:...|afc070543f19028dc...|\n",
            "|23310699|Tue Nov 22 10:02:...|Sat Jan 28 12:49:...|         0|      0|     4|Fri Jan 27 00:00:...|2b1b215cdbcdee112...|Some very heavy t...|Tue Nov 22 00:00:...|afc070543f19028dc...|\n",
            "|  169413|Tue Sep 06 19:29:...|Sat Jan 28 12:53:...|         0|      0|     2|Wed Sep 07 00:00:...|b4b62b1a1a5a95015...|I have always enj...|Tue Sep 06 00:00:...|afc070543f19028dc...|\n",
            "+--------+--------------------+--------------------+----------+-------+------+--------------------+--------------------+--------------------+--------------------+--------------------+\n",
            "only showing top 20 rows\n",
            "\n"
          ]
        }
      ]
    },
    {
      "cell_type": "code",
      "source": [
        "from pyspark.sql.functions import col, udf\n",
        "from pyspark.sql.types import DoubleType, IntegerType, DateType\n",
        "df_data = df_data_books \\\n",
        "    .withColumn('book_id', col('book_id').cast(IntegerType())) "
      ],
      "metadata": {
        "id": "0huM7BnFxif4"
      },
      "execution_count": null,
      "outputs": []
    },
    {
      "cell_type": "code",
      "source": [
        "df_data_books = df_data_books.withColumn(\"book_id\",df_data_books.book_id.cast(IntegerType()))\n",
        "df_data_books.printSchema()"
      ],
      "metadata": {
        "colab": {
          "base_uri": "https://localhost:8080/"
        },
        "id": "1t_Cs1tqd9z6",
        "outputId": "7b46cf10-4cf2-46e4-fd97-f00908945320"
      },
      "execution_count": null,
      "outputs": [
        {
          "output_type": "stream",
          "name": "stdout",
          "text": [
            "root\n",
            " |-- book_id: integer (nullable = true)\n",
            " |-- date_added: string (nullable = true)\n",
            " |-- date_updated: string (nullable = true)\n",
            " |-- n_comments: long (nullable = true)\n",
            " |-- n_votes: long (nullable = true)\n",
            " |-- rating: long (nullable = true)\n",
            " |-- read_at: string (nullable = true)\n",
            " |-- review_id: string (nullable = true)\n",
            " |-- review_text: string (nullable = true)\n",
            " |-- started_at: string (nullable = true)\n",
            " |-- user_id: string (nullable = true)\n",
            "\n"
          ]
        }
      ]
    },
    {
      "cell_type": "code",
      "source": [
        "df_data_books_filtered = df_data_books[df_data_books['n_votes'] == 0]\n",
        "df_data_books_filtered.show()\n",
        "df_data_books_filtered.count()"
      ],
      "metadata": {
        "colab": {
          "base_uri": "https://localhost:8080/"
        },
        "id": "ubZVtVEWn4v-",
        "outputId": "9b66a0c4-7f6e-4e43-dadd-ef3f11c0df12"
      },
      "execution_count": null,
      "outputs": [
        {
          "output_type": "stream",
          "name": "stdout",
          "text": [
            "+--------+--------------------+--------------------+----------+-------+------+--------------------+--------------------+--------------------+--------------------+--------------------+\n",
            "| book_id|          date_added|        date_updated|n_comments|n_votes|rating|             read_at|           review_id|         review_text|          started_at|             user_id|\n",
            "+--------+--------------------+--------------------+----------+-------+------+--------------------+--------------------+--------------------+--------------------+--------------------+\n",
            "|   10365|Thu Jan 03 10:24:...|Wed Mar 22 11:45:...|         0|      0|     5|Fri Apr 01 00:00:...|b953295db05c92394...|    Loved this book.|                    |8842281e1d1347389...|\n",
            "|23302416|Wed Jan 21 18:40:...|Wed Oct 26 03:44:...|         0|      0|     5|                    |84c0936a0f9868f38...|I read this book ...|                    |7504b2aee1ecb5b28...|\n",
            "|17381987|Fri Sep 11 10:15:...|Sat Nov 21 14:01:...|         0|      0|     5|                    |2eea8fef796c18d54...|         Fantastic !|                    |fe0df2eff573e75c0...|\n",
            "|   65118|Wed Jul 06 10:05:...|Wed Jul 06 10:07:...|         0|      0|     2|Wed Jun 01 00:00:...|64d110fcb69666982...|I'm getting bored...|                    |4b3636a043e5c99fa...|\n",
            "|17722973|Tue Sep 22 10:18:...|Mon Sep 28 10:12:...|         0|      0|     3|Fri Sep 25 00:00:...|978f0a0be26c3d77a...|I want to love th...|Tue Sep 22 00:00:...|4b3636a043e5c99fa...|\n",
            "| 5972040|Thu May 01 13:21:...|Mon May 12 11:31:...|         0|      0|     2|Mon May 12 11:31:...|d4881d52bd590f714...|The characters ju...|Thu May 01 00:00:...|4b3636a043e5c99fa...|\n",
            "|   39988|Sun Apr 27 13:47:...|Sun Sep 28 07:09:...|         0|      0|     3|Sun Sep 28 07:09:...|96140a9a366b326ec...|Probably one of m...|Thu Sep 18 23:15:...|4b3636a043e5c99fa...|\n",
            "|    6310|Sun Apr 27 13:47:...|Sun Apr 27 13:47:...|         0|      0|     5|                    |484c97ecdd391624a...|I never ever ever...|                    |4b3636a043e5c99fa...|\n",
            "|23310699|Tue Nov 22 10:02:...|Sat Jan 28 12:49:...|         0|      0|     4|Fri Jan 27 00:00:...|2b1b215cdbcdee112...|Some very heavy t...|Tue Nov 22 00:00:...|afc070543f19028dc...|\n",
            "|  169413|Tue Sep 06 19:29:...|Sat Jan 28 12:53:...|         0|      0|     2|Wed Sep 07 00:00:...|b4b62b1a1a5a95015...|I have always enj...|Tue Sep 06 00:00:...|afc070543f19028dc...|\n",
            "|24612624|Sun Aug 16 12:42:...|Sun Aug 16 12:48:...|         0|      0|     3|Sun Aug 16 12:48:...|122ef616b95236e24...|Definitly a book ...|                    |7b2e5fe9fd353fecf...|\n",
            "|22064780|Fri Aug 14 13:37:...|Fri Aug 14 13:45:...|         0|      0|     4|Wed Aug 12 00:00:...|65655575c861d6009...|I was unsure what...|                    |7b2e5fe9fd353fecf...|\n",
            "|20575434|Mon Dec 01 17:46:...|Mon Dec 01 17:47:...|         1|      0|     4|Mon Dec 01 00:00:...|7e3e9bf1d165ab02b...|One sitting/tears...|                    |7b2e5fe9fd353fecf...|\n",
            "|17456988|Sat Jul 12 14:41:...|Sat Jul 12 14:42:...|         0|      0|     4|                    |0560de5c978b40c16...|WOW! What a great...|                    |7b2e5fe9fd353fecf...|\n",
            "|18079564|Sun Jun 22 09:09:...|Sun Jun 22 09:33:...|         0|      0|     3|                    |55e1c6c05078a810c...|I think this coul...|                    |7b2e5fe9fd353fecf...|\n",
            "|13642528|Mon Apr 21 07:31:...|Mon Apr 21 07:38:...|         0|      0|     4|Sat Apr 19 00:00:...|e858d11d8c1d2cd27...|What a great read...|                    |7b2e5fe9fd353fecf...|\n",
            "| 8043512|Sun Mar 09 16:47:...|Sun Mar 09 16:52:...|         0|      0|     4|Sun Mar 09 16:52:...|7072f69f295ddd54e...|Been looking at t...|                    |7b2e5fe9fd353fecf...|\n",
            "|20322044|Sun Dec 29 08:38:...|Sun Dec 29 08:42:...|         0|      0|     5|Sun Dec 01 00:00:...|610c39d2060161b91...|What a great pict...|                    |7b2e5fe9fd353fecf...|\n",
            "|17349055|Fri Nov 29 19:49:...|Fri Nov 29 19:55:...|         0|      0|     3|Fri Nov 29 00:00:...|7aa4ea3fd182ca340...|Hmmmm, that's wha...|                    |7b2e5fe9fd353fecf...|\n",
            "|17847127|Mon Oct 21 10:39:...|Mon Oct 21 10:43:...|         0|      0|     4|Sun Oct 20 00:00:...|233aa8edf04d70770...|What a great litt...|                    |7b2e5fe9fd353fecf...|\n",
            "+--------+--------------------+--------------------+----------+-------+------+--------------------+--------------------+--------------------+--------------------+--------------------+\n",
            "only showing top 20 rows\n",
            "\n"
          ]
        },
        {
          "output_type": "execute_result",
          "data": {
            "text/plain": [
              "602872"
            ]
          },
          "metadata": {},
          "execution_count": 31
        }
      ]
    },
    {
      "cell_type": "code",
      "source": [
        "import pyspark.sql.functions as func"
      ],
      "metadata": {
        "id": "1lHu2mvqn5wn"
      },
      "execution_count": null,
      "outputs": []
    },
    {
      "cell_type": "code",
      "source": [
        "#Average character length of review text\n",
        "average_character_length = df_data_books.agg(func.avg(func.length(\"review_text\"))).collect()[0][0]\n",
        "print('Average character length of review text:',average_character_length)"
      ],
      "metadata": {
        "colab": {
          "base_uri": "https://localhost:8080/"
        },
        "id": "5xKT7KHOpGUC",
        "outputId": "21376f90-ba82-4f7b-e0a4-2df2183a347b"
      },
      "execution_count": null,
      "outputs": [
        {
          "output_type": "stream",
          "name": "stdout",
          "text": [
            "Average character length of review text: 421.9224994555156\n"
          ]
        }
      ]
    },
    {
      "cell_type": "code",
      "source": [
        "from pyspark.ml.feature import StringIndexer\n",
        "indexer = StringIndexer(inputCol=\"user_id\", outputCol=\"user_index\")\n",
        "df_data_books_indexed = indexer.fit(df_data_books).transform(df_data_books)\n",
        "df_data_books_indexed.show()\n",
        "df_data_books_indexed.count()"
      ],
      "metadata": {
        "id": "8HytOBCCvbpX",
        "colab": {
          "base_uri": "https://localhost:8080/"
        },
        "outputId": "674a3270-4acc-4dc2-c82e-3508dc505ef1"
      },
      "execution_count": null,
      "outputs": [
        {
          "output_type": "stream",
          "name": "stdout",
          "text": [
            "+--------+--------------------+--------------------+----------+-------+------+--------------------+--------------------+--------------------+--------------------+--------------------+----------+\n",
            "| book_id|          date_added|        date_updated|n_comments|n_votes|rating|             read_at|           review_id|         review_text|          started_at|             user_id|user_index|\n",
            "+--------+--------------------+--------------------+----------+-------+------+--------------------+--------------------+--------------------+--------------------+--------------------+----------+\n",
            "|23310161|Tue Nov 17 11:37:...|Tue Nov 17 11:38:...|         0|      7|     4|                    |f4b4b050f4be00e92...|Fun sequel to the...|                    |8842281e1d1347389...|   10129.0|\n",
            "|17290220|Sat Nov 08 08:54:...|Wed Jan 25 13:56:...|         0|      4|     5|Tue Jan 24 00:00:...|22d424a2b0057b18f...|One of my favorit...|                    |8842281e1d1347389...|   10129.0|\n",
            "| 6954929|Thu Oct 23 13:46:...|Thu Oct 23 13:47:...|         1|      6|     5|                    |50ed4431c451d5677...|One of the best a...|                    |8842281e1d1347389...|   10129.0|\n",
            "|  460548|Mon Dec 02 10:43:...|Wed Mar 22 11:47:...|         4|      5|     5|                    |1e4de11dd4fa4b7ff...|My daughter is lo...|                    |8842281e1d1347389...|   10129.0|\n",
            "|11474551|Wed May 11 22:38:...|Sun Jan 29 15:56:...|         0|      5|     5|Wed May 11 00:00:...|2065145714bf74708...|A friend sent me ...|Wed May 11 00:00:...|8842281e1d1347389...|   10129.0|\n",
            "|  304889|Fri Aug 15 15:42:...|Fri Aug 15 15:43:...|         0|      1|     5|                    |eb8a5303f86f1687f...|One of my favorit...|                    |8842281e1d1347389...|   10129.0|\n",
            "|   10365|Thu Jan 03 10:24:...|Wed Mar 22 11:45:...|         0|      0|     5|Fri Apr 01 00:00:...|b953295db05c92394...|    Loved this book.|                    |8842281e1d1347389...|   10129.0|\n",
            "|   14366|Thu Apr 12 12:07:...|Wed Mar 22 11:45:...|         8|      3|     4|                    |0680dc3f8aadd7f72...|I *loved* this bo...|                    |8842281e1d1347389...|   10129.0|\n",
            "|   19543|Wed Dec 27 14:19:...|Wed Mar 22 11:44:...|         3|     17|     5|Wed Jun 01 00:00:...|191081e3eba11eef6...|I didn't want to ...|                    |8842281e1d1347389...|   10129.0|\n",
            "|   10959|Sun Dec 17 14:27:...|Thu Jul 31 00:32:...|         1|      2|     0|                    |8f7463f1f34c782de...|A friend of Eliza...|                    |8842281e1d1347389...|   10129.0|\n",
            "|23302416|Wed Jan 21 18:40:...|Wed Oct 26 03:44:...|         0|      0|     5|                    |84c0936a0f9868f38...|I read this book ...|                    |7504b2aee1ecb5b28...|   68276.0|\n",
            "|17381987|Fri Sep 11 10:15:...|Sat Nov 21 14:01:...|         0|      0|     5|                    |2eea8fef796c18d54...|         Fantastic !|                    |fe0df2eff573e75c0...|   92307.0|\n",
            "|   65118|Wed Jul 06 10:05:...|Wed Jul 06 10:07:...|         0|      0|     2|Wed Jun 01 00:00:...|64d110fcb69666982...|I'm getting bored...|                    |4b3636a043e5c99fa...|   17969.0|\n",
            "|17722973|Tue Sep 22 10:18:...|Mon Sep 28 10:12:...|         0|      0|     3|Fri Sep 25 00:00:...|978f0a0be26c3d77a...|I want to love th...|Tue Sep 22 00:00:...|4b3636a043e5c99fa...|   17969.0|\n",
            "| 5972040|Thu May 01 13:21:...|Mon May 12 11:31:...|         0|      0|     2|Mon May 12 11:31:...|d4881d52bd590f714...|The characters ju...|Thu May 01 00:00:...|4b3636a043e5c99fa...|   17969.0|\n",
            "|   39988|Sun Apr 27 13:47:...|Sun Sep 28 07:09:...|         0|      0|     3|Sun Sep 28 07:09:...|96140a9a366b326ec...|Probably one of m...|Thu Sep 18 23:15:...|4b3636a043e5c99fa...|   17969.0|\n",
            "|    6310|Sun Apr 27 13:47:...|Sun Apr 27 13:47:...|         0|      0|     5|                    |484c97ecdd391624a...|I never ever ever...|                    |4b3636a043e5c99fa...|   17969.0|\n",
            "|25311520|Wed Sep 06 19:34:...|Wed Sep 13 08:00:...|         0|      1|     5|Wed Sep 13 08:00:...|36567650cbe4e3a22...|Wonderful middle ...|Wed Sep 06 19:34:...|afc070543f19028dc...|   30181.0|\n",
            "|23310699|Tue Nov 22 10:02:...|Sat Jan 28 12:49:...|         0|      0|     4|Fri Jan 27 00:00:...|2b1b215cdbcdee112...|Some very heavy t...|Tue Nov 22 00:00:...|afc070543f19028dc...|   30181.0|\n",
            "|  169413|Tue Sep 06 19:29:...|Sat Jan 28 12:53:...|         0|      0|     2|Wed Sep 07 00:00:...|b4b62b1a1a5a95015...|I have always enj...|Tue Sep 06 00:00:...|afc070543f19028dc...|   30181.0|\n",
            "+--------+--------------------+--------------------+----------+-------+------+--------------------+--------------------+--------------------+--------------------+--------------------+----------+\n",
            "only showing top 20 rows\n",
            "\n"
          ]
        },
        {
          "output_type": "execute_result",
          "data": {
            "text/plain": [
              "734640"
            ]
          },
          "metadata": {},
          "execution_count": 34
        }
      ]
    },
    {
      "cell_type": "code",
      "source": [
        "\n",
        "from pyspark.ml.evaluation import RegressionEvaluator\n",
        "from pyspark.ml.recommendation import ALS\n",
        "from pyspark.ml.tuning import ParamGridBuilder, CrossValidator"
      ],
      "metadata": {
        "id": "PD59vAg-pGWh"
      },
      "execution_count": null,
      "outputs": []
    },
    {
      "cell_type": "code",
      "source": [
        "#Training the data\n",
        "(training, test) = df_data_books_indexed.randomSplit([0.8, 0.2], seed = 123)\n",
        "print (training.first())"
      ],
      "metadata": {
        "colab": {
          "base_uri": "https://localhost:8080/"
        },
        "id": "g__5LyRHpGZB",
        "outputId": "94a72dcd-501a-4653-e3f2-af64d7dd1d87"
      },
      "execution_count": null,
      "outputs": [
        {
          "output_type": "stream",
          "name": "stdout",
          "text": [
            "Row(book_id=5, date_added='Fri Apr 04 06:26:04 -0700 2008', date_updated='Fri Aug 29 06:53:00 -0700 2014', n_comments=0, n_votes=0, rating=5, read_at='Thu Aug 28 00:00:00 -0700 2014', review_id='263bc6ff81c9202bff11393d54f67208', review_text='Rowling gets noticeably better as a writer as her series continues. There is a lot of good stuff in here, particularly the Sirius Black and Professor Lupin characterizations. Even leading up to the last couple of pages, you really think you know who these guys are. Well, not everything is what it seems, right? \\n Heck, you even feel for Buckbeak, a hippogriff set up by Draco Malfoy to be too dangerous to be kept alive. And last but not least, the time turner. As I have read this series before, nothing surprised me, of course, but I do remember being surprised about the time turner. Time travel is such a fascinating concept, and can cause one to think about some crazy stuff. What would I do with the time turner if I had one? \\n On to book 4!', started_at='Fri Aug 15 00:00:00 -0700 2014', user_id='0fc8afff3e4e68201bd952cb005f6084', user_index=7164.0)\n"
          ]
        }
      ]
    },
    {
      "cell_type": "code",
      "source": [
        "#Creating ALS model\n",
        "als = ALS(maxIter=5, regParam=0.01, userCol=\"user_index\", itemCol=\"book_id\", ratingCol=\"rating\",\n",
        "          coldStartStrategy=\"drop\")\n",
        "model = als.fit(training)"
      ],
      "metadata": {
        "id": "nMSPITPmpGcj"
      },
      "execution_count": null,
      "outputs": []
    },
    {
      "cell_type": "code",
      "source": [
        "print (\"Total users in training data:\", model.userFactors.count())\n",
        "print (\"Total books in training data:\", model.itemFactors.count())"
      ],
      "metadata": {
        "colab": {
          "base_uri": "https://localhost:8080/"
        },
        "id": "bPDm4fDgysQP",
        "outputId": "dd5f1ef8-ba71-4a8c-c807-b9a31ce0f51c"
      },
      "execution_count": null,
      "outputs": [
        {
          "output_type": "stream",
          "name": "stdout",
          "text": [
            "Total users in training data: 83195\n",
            "Total books in training data: 111160\n"
          ]
        }
      ]
    },
    {
      "cell_type": "code",
      "source": [
        "predictions = model.transform(test)\n",
        "evaluator = RegressionEvaluator(metricName=\"rmse\", labelCol=\"rating\",\n",
        "                                predictionCol=\"prediction\")"
      ],
      "metadata": {
        "id": "E2w3tX7eysdW"
      },
      "execution_count": null,
      "outputs": []
    },
    {
      "cell_type": "code",
      "source": [
        "predictions.show()"
      ],
      "metadata": {
        "id": "43CCNeGHpGk4",
        "colab": {
          "base_uri": "https://localhost:8080/"
        },
        "outputId": "a9af2cb3-ee5a-49bc-8290-914705e6d1ca"
      },
      "execution_count": null,
      "outputs": [
        {
          "output_type": "stream",
          "name": "stdout",
          "text": [
            "+-------+--------------------+--------------------+----------+-------+------+--------------------+--------------------+--------------------+--------------------+--------------------+----------+-----------+\n",
            "|book_id|          date_added|        date_updated|n_comments|n_votes|rating|             read_at|           review_id|         review_text|          started_at|             user_id|user_index| prediction|\n",
            "+-------+--------------------+--------------------+----------+-------+------+--------------------+--------------------+--------------------+--------------------+--------------------+----------+-----------+\n",
            "|  14570|Thu Sep 18 13:41:...|Thu Sep 18 13:42:...|         0|      0|     5|                    |e45398f6cb805ae22...|Really cute class...|                    |6183fba9ea5f709f8...|    7331.0| -5.9512305|\n",
            "|  14570|Fri Jun 01 15:52:...|Thu Jul 26 17:18:...|         0|      0|     4|Thu Jul 26 00:00:...|52860a12c66d6a4f9...|It was a sweet an...|Thu Jun 21 00:00:...|df3d07d79ccd09369...|   45767.0|  2.1095512|\n",
            "|  14570|Tue Jun 14 14:18:...|Sun Feb 03 04:06:...|         0|      0|     3|Sat Dec 27 00:00:...|c75c3beac4aca8093...|For some reason t...|                    |fb9151ce982169a0f...|    6692.0|   6.544035|\n",
            "|  14570|Mon Jun 19 09:17:...|Mon Jun 19 09:20:...|         0|      0|     5|                    |c64a264aaf05c5b5f...|This is one of my...|                    |614fda1ae82f44c36...|   13743.0| -0.5052007|\n",
            "|  14570|Fri Jan 04 17:50:...|Fri Jan 04 17:51:...|         0|      0|     4|Sat Jan 01 00:00:...|7cf0710af6586e7fd...|I LOVED this book...|                    |f34a0be4d17282ed5...|    6284.0|  -8.220243|\n",
            "|  14570|Wed Nov 18 18:55:...|Mon Jul 18 16:05:...|         0|      0|     4|Mon Jul 18 16:05:...|09d9cc3ccddeb1c21...|A very charming, ...|Wed Jul 13 00:00:...|6c6db29c8c11d7f14...|    4002.0|   5.184497|\n",
            "|  14570|Sat Jan 02 15:55:...|Sat Jan 02 15:55:...|         0|      0|     0|                    |2b96e465aafaf4b3a...|I read \"Eight Cou...|                    |4ffd74bff6acd210e...|   37271.0|  2.2588584|\n",
            "|  14570|Fri Jan 08 16:20:...|Fri Jan 08 16:21:...|         0|      0|     0|                    |41ba040600995c3b0...|I have this book ...|                    |8c35d4acaafba820c...|    2541.0|-0.53375185|\n",
            "|  14570|Tue Apr 23 12:37:...|Tue Apr 23 12:42:...|         0|      0|     3|                    |dd07aba12c2ff2e2f...|This story is as ...|                    |c0e77e88f1263167a...|    3302.0|  1.6198746|\n",
            "|  14570|Sun Apr 05 18:57:...|Tue Apr 07 12:00:...|         0|      0|     3|                    |5a7dfa87f8ebcddde...|It was obvious to...|                    |d9092a4e4c44e1645...|    3109.0|  7.2002735|\n",
            "|  14570|Thu Jan 28 13:30:...|Mon Jun 05 17:15:...|         0|      1|     3|Mon Jun 05 00:00:...|7a43859b965f87274...|3 1/2; adorable, ...|Thu May 25 00:00:...|2d931078fb2e331e8...|   13420.0|  1.4294524|\n",
            "|  35947|Fri Jun 20 11:53:...|Fri Jun 20 11:55:...|         0|      0|     5|Tue Jan 01 00:00:...|1929f6957b1e1a539...|A cumulative stor...|                    |8d58bcee652bd3095...|      98.0|        0.0|\n",
            "|  41890|Sun Jul 05 13:55:...|Sun Jul 05 14:19:...|         0|      0|     5|                    |24d2e73d50aa86383...|i think this is o...|                    |2ea6f60642a07e1e7...|   21035.0| -1.6086168|\n",
            "|  41890|Sun Dec 26 12:11:...|Sun Dec 26 12:12:...|         0|      1|     3|Wed Dec 22 00:00:...|cd33ccd6436de4fc0...|Very silly and ab...|                    |6ac35fe952c608da5...|       3.0|  3.0931835|\n",
            "|  41890|Sun Oct 16 01:24:...|Sun Oct 16 02:53:...|         0|      0|     4|Sun Oct 16 02:53:...|32827b587b2dd412e...|\"He is good for y...|Sat Oct 15 00:00:...|4896c70f2e6bc0129...|   21480.0|  1.9986992|\n",
            "|  41890|Fri Sep 16 13:43:...|Mon Sep 26 09:45:...|         0|      0|     4|Mon Sep 19 00:00:...|b82277e234329703c...|I loved my Shel S...|Fri Sep 16 00:00:...|e912389e0ecbd4c79...|      42.0|   3.328083|\n",
            "|  51393|Mon Jul 15 09:44:...|Sat Aug 24 11:25:...|         0|      0|     4|                    |feec63666ab8d7e3f...|\"Skin Again,\" by ...|                    |eea479ed27d6a3d63...|    1200.0|  5.1509213|\n",
            "|  74757|Wed Jun 18 22:06:...|Wed Aug 10 16:17:...|         0|      0|     5|Wed Jun 01 00:00:...|06878fa6c1d446df3...|Re-read this! The...|                    |780f51f6ce3c5c1c8...|   18539.0|  2.1923628|\n",
            "|  74757|Fri Dec 04 09:23:...|Fri Dec 04 09:33:...|         0|      0|     3|Wed Nov 25 00:00:...|824b66e90e1c2e865...|I finally read th...|                    |a288e9ad51c4ec30a...|     673.0|    0.36244|\n",
            "|  74757|Fri Jan 27 01:22:...|Sat Jan 28 03:37:...|        11|     42|     4|Fri Jan 27 00:00:...|52286d6cf67cbc743...|It may sound weir...|Fri Jan 27 00:00:...|6c2cec95dce46ae70...|    6095.0|   8.145893|\n",
            "+-------+--------------------+--------------------+----------+-------+------+--------------------+--------------------+--------------------+--------------------+--------------------+----------+-----------+\n",
            "only showing top 20 rows\n",
            "\n"
          ]
        }
      ]
    },
    {
      "cell_type": "code",
      "source": [
        "#Generating RMSE value\n",
        "rmse = evaluator.evaluate(predictions)\n",
        "print(\"Root-mean-square error of the ALS model = \" + str(rmse))"
      ],
      "metadata": {
        "id": "wRykKQhWpGoN",
        "colab": {
          "base_uri": "https://localhost:8080/"
        },
        "outputId": "fdc719d1-8522-4bd4-e6fc-7824f5209de4"
      },
      "execution_count": null,
      "outputs": [
        {
          "output_type": "stream",
          "name": "stdout",
          "text": [
            "Root-mean-square error of the ALS model = 3.3925669252239197\n"
          ]
        }
      ]
    },
    {
      "cell_type": "code",
      "source": [
        "users = df_data_books_indexed.select(als.getUserCol()).distinct().limit(3)\n",
        "userSubsetRecs = model.recommendForUserSubset(users, 5)\n",
        "\n",
        "userSubsetRecs.show(truncate=False)"
      ],
      "metadata": {
        "colab": {
          "base_uri": "https://localhost:8080/"
        },
        "id": "1ojw9kE5zN1M",
        "outputId": "8bc27287-2da1-4ccc-836f-d5692583c5b2"
      },
      "execution_count": null,
      "outputs": [
        {
          "output_type": "stream",
          "name": "stdout",
          "text": [
            "+----------+-------------------------------------------------------------------------------------------------------------------+\n",
            "|user_index|recommendations                                                                                                    |\n",
            "+----------+-------------------------------------------------------------------------------------------------------------------+\n",
            "|62706     |[{16238459, 7.2577124}, {13548546, 6.4456367}, {15958035, 6.3328094}, {18405814, 6.0609283}, {24748294, 5.8095713}]|\n",
            "|51869     |[{29781406, 18.599735}, {28580791, 16.600353}, {33960518, 16.307196}, {25619537, 15.74214}, {13558060, 15.698348}] |\n",
            "|10129     |[{13548546, 49.69863}, {16238459, 44.94}, {16713133, 43.445107}, {12480717, 43.193115}, {298498, 42.428764}]       |\n",
            "+----------+-------------------------------------------------------------------------------------------------------------------+\n",
            "\n"
          ]
        }
      ]
    },
    {
      "cell_type": "code",
      "source": [
        ""
      ],
      "metadata": {
        "id": "Fv9gqXrXzN4s"
      },
      "execution_count": null,
      "outputs": []
    }
  ]
}