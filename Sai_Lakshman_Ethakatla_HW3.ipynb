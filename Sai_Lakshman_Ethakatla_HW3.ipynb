{
  "nbformat": 4,
  "nbformat_minor": 0,
  "metadata": {
    "colab": {
      "name": "Sai Lakshman Ethakatla-HW3.ipynb",
      "provenance": [],
      "mount_file_id": "1OSTP6qZ0vJVP_gOPLT76XUX-Vr1-eyjK",
      "authorship_tag": "ABX9TyNWCX5QbBXkIC31tAA2wk7G",
      "include_colab_link": true
    },
    "kernelspec": {
      "name": "python3",
      "display_name": "Python 3"
    },
    "language_info": {
      "name": "python"
    }
  },
  "cells": [
    {
      "cell_type": "markdown",
      "metadata": {
        "id": "view-in-github",
        "colab_type": "text"
      },
      "source": [
        "<a href=\"https://colab.research.google.com/github/LakshmanYES/My-School-Projects/blob/main/Sai_Lakshman_Ethakatla_HW3.ipynb\" target=\"_parent\"><img src=\"https://colab.research.google.com/assets/colab-badge.svg\" alt=\"Open In Colab\"/></a>"
      ]
    },
    {
      "cell_type": "code",
      "execution_count": null,
      "metadata": {
        "id": "CYxH91kaG4rD"
      },
      "outputs": [],
      "source": [
        "# Spark init\n",
        "!wget -q https://dlcdn.apache.org/spark/spark-3.1.2/spark-3.1.2-bin-hadoop2.7.tgz \n",
        "!tar xf spark-3.1.2-bin-hadoop2.7.tgz\n",
        "import os\n",
        "os.environ[\"JAVA_HOME\"] = \"/usr/lib/jvm/default-java\"\n",
        "os.environ[\"SPARK_HOME\"] = \"/content/spark-3.1.2-bin-hadoop2.7\"\n",
        "!pip install -q findspark\n",
        "import findspark\n",
        "findspark.init()"
      ]
    },
    {
      "cell_type": "code",
      "source": [
        "from pyspark import SparkContext\n",
        "from pyspark import SparkConf\n",
        "from pyspark.sql import SparkSession\n",
        "conf = SparkConf().setAppName(\"My Spark App\").setMaster(\"local\")\n",
        "sc = SparkContext(conf=conf)\n",
        "spark = SparkSession(sc)"
      ],
      "metadata": {
        "id": "VTX9fCS2G-WL"
      },
      "execution_count": null,
      "outputs": []
    },
    {
      "cell_type": "code",
      "source": [
        "from pyspark.sql.types import *\n",
        "\n",
        "spark = SparkSession.builder\\\n",
        "        .master(\"local\")\\\n",
        "        .appName(\"Colab\")\\\n",
        "        .config('spark.ui.port', '4050')\\\n",
        "        .getOrCreate()"
      ],
      "metadata": {
        "id": "TNp0mHRQG-Y5"
      },
      "execution_count": null,
      "outputs": []
    },
    {
      "cell_type": "code",
      "source": [
        "!wget --continue http://saifmohammad.com/WebDocs/Jan9-2012-tweets-clean.txt.zip  -O /content/drive/MyDrive/data/Jan9-2012-tweets-clean.txt.zip"
      ],
      "metadata": {
        "colab": {
          "base_uri": "https://localhost:8080/"
        },
        "id": "-L1ZhXWWG-bV",
        "outputId": "63479aca-6a5b-4308-9a8e-19ed15c54f42"
      },
      "execution_count": null,
      "outputs": [
        {
          "output_type": "stream",
          "name": "stdout",
          "text": [
            "--2022-04-22 02:41:31--  http://saifmohammad.com/WebDocs/Jan9-2012-tweets-clean.txt.zip\n",
            "Resolving saifmohammad.com (saifmohammad.com)... 192.185.17.122\n",
            "Connecting to saifmohammad.com (saifmohammad.com)|192.185.17.122|:80... connected.\n",
            "HTTP request sent, awaiting response... 200 OK\n",
            "Length: 1128895 (1.1M) [application/zip]\n",
            "Saving to: ‘/content/drive/MyDrive/data/Jan9-2012-tweets-clean.txt.zip’\n",
            "\n",
            "/content/drive/MyDr 100%[===================>]   1.08M  4.90MB/s    in 0.2s    \n",
            "\n",
            "2022-04-22 02:41:32 (4.90 MB/s) - ‘/content/drive/MyDrive/data/Jan9-2012-tweets-clean.txt.zip’ saved [1128895/1128895]\n",
            "\n"
          ]
        }
      ]
    },
    {
      "cell_type": "code",
      "source": [
        "!unzip /content/drive/MyDrive/data/Jan9-2012-tweets-clean.txt.zip -d /content/drive/MyDrive/data"
      ],
      "metadata": {
        "colab": {
          "base_uri": "https://localhost:8080/"
        },
        "id": "V_bWTK4CG-e1",
        "outputId": "ffd3d2df-9769-46f0-ef48-3e1237305d8d"
      },
      "execution_count": null,
      "outputs": [
        {
          "output_type": "stream",
          "name": "stdout",
          "text": [
            "Archive:  /content/drive/MyDrive/data/Jan9-2012-tweets-clean.txt.zip\n",
            "  inflating: /content/drive/MyDrive/data/Jan9-2012-tweets-clean.txt  \n",
            "   creating: /content/drive/MyDrive/data/__MACOSX/\n",
            "  inflating: /content/drive/MyDrive/data/__MACOSX/._Jan9-2012-tweets-clean.txt  \n"
          ]
        }
      ]
    },
    {
      "cell_type": "code",
      "source": [
        "tweets_schema = StructType([\n",
        "        StructField(\"content\", StringType(), True),\n",
        "        StructField(\"emotion\", StringType(), True)\n",
        "    ])"
      ],
      "metadata": {
        "id": "UKcppjlHNRbV"
      },
      "execution_count": null,
      "outputs": []
    },
    {
      "cell_type": "code",
      "source": [
        "df_tweet_clean = spark.read.csv('/content/drive/MyDrive/data/Jan9-2012-tweets-clean.txt', sep=':: ',\n",
        "                         schema = tweets_schema, header=False)"
      ],
      "metadata": {
        "id": "OYULSY5lNRkJ"
      },
      "execution_count": null,
      "outputs": []
    },
    {
      "cell_type": "code",
      "source": [
        "df_tweet_clean.show()"
      ],
      "metadata": {
        "colab": {
          "base_uri": "https://localhost:8080/"
        },
        "id": "o1jb6HE5NRo1",
        "outputId": "4284a5d6-7eea-4305-d88e-f65fc0c09a94"
      },
      "execution_count": null,
      "outputs": [
        {
          "output_type": "stream",
          "name": "stdout",
          "text": [
            "+--------------------+--------+\n",
            "|             content| emotion|\n",
            "+--------------------+--------+\n",
            "|14535304881701273...|surprise|\n",
            "|14427963802425753...| sadness|\n",
            "|14049958528511180...|     joy|\n",
            "|14520757827050700...|     joy|\n",
            "|13950214639047065...| disgust|\n",
            "|14604269689988710...|     joy|\n",
            "|14549256960908492...|     joy|\n",
            "|14590395522915123...|     joy|\n",
            "|14271761323406950...|    fear|\n",
            "|14418382287392768...|   anger|\n",
            "|14595999580305817...| sadness|\n",
            "|14291809701003673...|surprise|\n",
            "|14218640322317926...|surprise|\n",
            "|14570353827684352...| sadness|\n",
            "|14594775270936985...|     joy|\n",
            "|13895892187546419...|   anger|\n",
            "|14616042380736102...|     joy|\n",
            "|13911997107365888...|surprise|\n",
            "|13992503437754777...|     joy|\n",
            "|14596543439765913...| sadness|\n",
            "+--------------------+--------+\n",
            "only showing top 20 rows\n",
            "\n"
          ]
        }
      ]
    },
    {
      "cell_type": "code",
      "source": [
        "df_part_A = df_tweet_clean.select('content','emotion')"
      ],
      "metadata": {
        "id": "Yics4NwjNoPC"
      },
      "execution_count": null,
      "outputs": []
    },
    {
      "cell_type": "code",
      "source": [
        "df_part_A.show()"
      ],
      "metadata": {
        "colab": {
          "base_uri": "https://localhost:8080/"
        },
        "id": "alhaBDcVNohF",
        "outputId": "db34cb21-9e6a-499f-b1a4-538adda47040"
      },
      "execution_count": null,
      "outputs": [
        {
          "output_type": "stream",
          "name": "stdout",
          "text": [
            "+--------------------+--------+\n",
            "|             content| emotion|\n",
            "+--------------------+--------+\n",
            "|14535304881701273...|surprise|\n",
            "|14427963802425753...| sadness|\n",
            "|14049958528511180...|     joy|\n",
            "|14520757827050700...|     joy|\n",
            "|13950214639047065...| disgust|\n",
            "|14604269689988710...|     joy|\n",
            "|14549256960908492...|     joy|\n",
            "|14590395522915123...|     joy|\n",
            "|14271761323406950...|    fear|\n",
            "|14418382287392768...|   anger|\n",
            "|14595999580305817...| sadness|\n",
            "|14291809701003673...|surprise|\n",
            "|14218640322317926...|surprise|\n",
            "|14570353827684352...| sadness|\n",
            "|14594775270936985...|     joy|\n",
            "|13895892187546419...|   anger|\n",
            "|14616042380736102...|     joy|\n",
            "|13911997107365888...|surprise|\n",
            "|13992503437754777...|     joy|\n",
            "|14596543439765913...| sadness|\n",
            "+--------------------+--------+\n",
            "only showing top 20 rows\n",
            "\n"
          ]
        }
      ]
    },
    {
      "cell_type": "code",
      "source": [
        "\n",
        "emotion_sample=[\"joy\",\"anger\",\"surprise\"]\n",
        "\n",
        "\n",
        "df_part_B=df_tweet_clean.filter(df_tweet_clean.emotion.isin(emotion_sample))"
      ],
      "metadata": {
        "id": "_MoPJIBbNpHH"
      },
      "execution_count": null,
      "outputs": []
    },
    {
      "cell_type": "code",
      "source": [
        "df_part_B.show()"
      ],
      "metadata": {
        "colab": {
          "base_uri": "https://localhost:8080/"
        },
        "id": "mhRiCQFzOPqy",
        "outputId": "4dc70cd0-5c86-45c2-f7df-f1b6cf1182b0"
      },
      "execution_count": null,
      "outputs": [
        {
          "output_type": "stream",
          "name": "stdout",
          "text": [
            "+--------------------+--------+\n",
            "|             content| emotion|\n",
            "+--------------------+--------+\n",
            "|14535304881701273...|surprise|\n",
            "|14049958528511180...|     joy|\n",
            "|14520757827050700...|     joy|\n",
            "|14604269689988710...|     joy|\n",
            "|14549256960908492...|     joy|\n",
            "|14590395522915123...|     joy|\n",
            "|14418382287392768...|   anger|\n",
            "|14291809701003673...|surprise|\n",
            "|14218640322317926...|surprise|\n",
            "|14594775270936985...|     joy|\n",
            "|13895892187546419...|   anger|\n",
            "|14616042380736102...|     joy|\n",
            "|13911997107365888...|surprise|\n",
            "|13992503437754777...|     joy|\n",
            "|14588083752573337...|     joy|\n",
            "|14516003874551398...|     joy|\n",
            "|14050796153249382...|     joy|\n",
            "|14273902091975065...|     joy|\n",
            "|14578161902485913...|     joy|\n",
            "|14427886515245875...|     joy|\n",
            "+--------------------+--------+\n",
            "only showing top 20 rows\n",
            "\n"
          ]
        }
      ]
    },
    {
      "cell_type": "code",
      "source": [
        "from pyspark.ml.feature import HashingTF, Tokenizer\n",
        "import re\n",
        "from pyspark.sql.functions import udf, length\n",
        "from pyspark.sql.types import StringType, ArrayType\n",
        "from pyspark.ml.feature import StopWordsRemover\n",
        "filter = re.compile(r\"^[a-zA-Z]+$\")\n",
        "match_udf = udf(lambda tokens: [token for token in tokens if filter.match(token)], ArrayType(StringType()))\n",
        "from nltk.stem.snowball import SnowballStemmer\n",
        "stemmer = SnowballStemmer(language='english')\n",
        "stemmer_udf = udf(lambda tokens: [stemmer.stem(token) for token in tokens], ArrayType(StringType()))"
      ],
      "metadata": {
        "id": "XqfiSixwOPui"
      },
      "execution_count": null,
      "outputs": []
    },
    {
      "cell_type": "code",
      "source": [
        "def to_features(df):\n",
        "  tokenizer = Tokenizer(inputCol=\"content\", outputCol=\"words\")\n",
        "  wordsData = tokenizer.transform(df)\n",
        "  df_matched = wordsData.withColumn(\"words_matched\", match_udf(\"words\")). \\\n",
        "    select('emotion', 'words_matched')\n",
        "  # Remove stop words\n",
        "  remover = StopWordsRemover(inputCol='words_matched', outputCol='words_clean')\n",
        "  df_words_clean = remover.transform(df_matched). \\\n",
        "    select('emotion', 'words_clean')\n",
        "  # Stem text\n",
        "  df_stemmed = df_words_clean.withColumn(\"words_stemmed\", stemmer_udf(\"words_clean\")). \\\n",
        "    select('emotion', 'words_stemmed')\n",
        "\n",
        "  # Generate vectors\n",
        "  hashingTF = HashingTF(inputCol=\"words_stemmed\", outputCol=\"rawFeatures\") \n",
        "  featurizedData = hashingTF.transform(df_stemmed)\n",
        "  return featurizedData"
      ],
      "metadata": {
        "id": "kb5g51LpOPxz"
      },
      "execution_count": null,
      "outputs": []
    },
    {
      "cell_type": "code",
      "source": [
        "(training_part_A, test_part_A) = df_part_A.randomSplit([0.8, 0.2], seed = 100)\n",
        "print (training_part_A.first())"
      ],
      "metadata": {
        "colab": {
          "base_uri": "https://localhost:8080/"
        },
        "id": "96KC4ec8OP1P",
        "outputId": "d333444f-d898-43d4-cd42-75dcba3ff0c8"
      },
      "execution_count": null,
      "outputs": [
        {
          "output_type": "stream",
          "name": "stdout",
          "text": [
            "Row(content='136060125965328385:\\tI Hate People With Crusty Nasty Lips \\t', emotion='disgust')\n"
          ]
        }
      ]
    },
    {
      "cell_type": "code",
      "source": [
        "print(\"The total number of records (count) of the training data\",training_part_A.count())"
      ],
      "metadata": {
        "colab": {
          "base_uri": "https://localhost:8080/"
        },
        "id": "jXiE0OuRPaJb",
        "outputId": "691a5eff-1cc4-4b32-bce2-11a759f21c15"
      },
      "execution_count": null,
      "outputs": [
        {
          "output_type": "stream",
          "name": "stdout",
          "text": [
            "The total number of records (count) of the training data 16836\n"
          ]
        }
      ]
    },
    {
      "cell_type": "code",
      "source": [
        "df_train_features_part_A = to_features(training_part_A)\n",
        "df_train_features_part_A.show()"
      ],
      "metadata": {
        "colab": {
          "base_uri": "https://localhost:8080/"
        },
        "id": "cG8Jytm8PaMg",
        "outputId": "42bc7378-04ca-4a8e-b1e2-a36eccd91630"
      },
      "execution_count": null,
      "outputs": [
        {
          "output_type": "stream",
          "name": "stdout",
          "text": [
            "+-------+--------------------+--------------------+\n",
            "|emotion|       words_stemmed|         rawFeatures|\n",
            "+-------+--------------------+--------------------+\n",
            "|disgust|[hate, peopl, cru...|(262144,[71195,72...|\n",
            "|disgust|[cat, parti, next...|(262144,[35315,45...|\n",
            "|disgust|   [laugh, everyday]|(262144,[97914,25...|\n",
            "|disgust|[dumb, fuck, two,...|(262144,[21823,24...|\n",
            "|disgust|[see, coupl, pda,...|(262144,[8538,768...|\n",
            "|disgust|[sister, black, kid]|(262144,[5451,752...|\n",
            "|  anger|[ridicul, mad, me...|(262144,[32055,61...|\n",
            "|disgust|[sack, similar, c...|(262144,[29526,15...|\n",
            "|disgust|[yall, dont, unde...|(262144,[31015,76...|\n",
            "|disgust|[mlk, fought, bla...|(262144,[31536,14...|\n",
            "|disgust|[hoe, tri, hard, ...|(262144,[2437,777...|\n",
            "|disgust|[white, girl, tal...|(262144,[13781,75...|\n",
            "|disgust|[watch, guy, scra...|(262144,[46846,16...|\n",
            "|  anger|[meant, rt, sarah...|(262144,[59225,77...|\n",
            "|disgust|[peopl, live, cho...|(262144,[20488,33...|\n",
            "|disgust|[ugh, bum, nigga,...|(262144,[89717,23...|\n",
            "|disgust|[lawyer, believ, ...|(262144,[80452,85...|\n",
            "|disgust|[better, share, e...|(262144,[5451,880...|\n",
            "|disgust|[watch, interview...|(262144,[51783,66...|\n",
            "|disgust|[find, yo, panti,...|(262144,[4592,918...|\n",
            "+-------+--------------------+--------------------+\n",
            "only showing top 20 rows\n",
            "\n"
          ]
        }
      ]
    },
    {
      "cell_type": "code",
      "source": [
        "df_Allemotions_in_file = test_part_A.select(\"emotion\").distinct()\n",
        "df_Allemotions_in_file.show()"
      ],
      "metadata": {
        "colab": {
          "base_uri": "https://localhost:8080/"
        },
        "id": "FKHB4HwFPlRA",
        "outputId": "1fe6d8ac-f0fe-4a95-c4c2-51e13c8eaf84"
      },
      "execution_count": null,
      "outputs": [
        {
          "output_type": "stream",
          "name": "stdout",
          "text": [
            "+--------+\n",
            "| emotion|\n",
            "+--------+\n",
            "|     joy|\n",
            "|   anger|\n",
            "|    fear|\n",
            "|surprise|\n",
            "| sadness|\n",
            "| disgust|\n",
            "+--------+\n",
            "\n"
          ]
        }
      ]
    },
    {
      "cell_type": "code",
      "source": [
        "from pyspark.ml.feature import StringIndexer\n",
        "indexer = StringIndexer(inputCol = 'emotion', outputCol = 'emotion_index')"
      ],
      "metadata": {
        "id": "TUwRlKzYPlZi"
      },
      "execution_count": null,
      "outputs": []
    },
    {
      "cell_type": "code",
      "source": [
        "df_Allemotions_indexed = indexer.fit(df_Allemotions_in_file).transform(df_Allemotions_in_file)\n",
        "df_Allemotions_indexed.show()\n",
        "\n",
        "df_train_data_features_part_A_indexed = df_train_features_part_A.join(df_Allemotions_indexed, 'emotion')\n",
        "df_train_data_features_part_A_indexed.show()"
      ],
      "metadata": {
        "colab": {
          "base_uri": "https://localhost:8080/"
        },
        "id": "aVTKz9wdPaP4",
        "outputId": "cb68e021-99a3-401e-eaf2-a2d7ed4494a0"
      },
      "execution_count": null,
      "outputs": [
        {
          "output_type": "stream",
          "name": "stdout",
          "text": [
            "+--------+-------------+\n",
            "| emotion|emotion_index|\n",
            "+--------+-------------+\n",
            "|     joy|          3.0|\n",
            "|   anger|          0.0|\n",
            "|    fear|          2.0|\n",
            "|surprise|          5.0|\n",
            "| sadness|          4.0|\n",
            "| disgust|          1.0|\n",
            "+--------+-------------+\n",
            "\n",
            "+-------+--------------------+--------------------+-------------+\n",
            "|emotion|       words_stemmed|         rawFeatures|emotion_index|\n",
            "+-------+--------------------+--------------------+-------------+\n",
            "|disgust|[hate, peopl, cru...|(262144,[71195,72...|          1.0|\n",
            "|disgust|[cat, parti, next...|(262144,[35315,45...|          1.0|\n",
            "|disgust|   [laugh, everyday]|(262144,[97914,25...|          1.0|\n",
            "|disgust|[dumb, fuck, two,...|(262144,[21823,24...|          1.0|\n",
            "|disgust|[see, coupl, pda,...|(262144,[8538,768...|          1.0|\n",
            "|disgust|[sister, black, kid]|(262144,[5451,752...|          1.0|\n",
            "|  anger|[ridicul, mad, me...|(262144,[32055,61...|          0.0|\n",
            "|disgust|[sack, similar, c...|(262144,[29526,15...|          1.0|\n",
            "|disgust|[yall, dont, unde...|(262144,[31015,76...|          1.0|\n",
            "|disgust|[mlk, fought, bla...|(262144,[31536,14...|          1.0|\n",
            "|disgust|[hoe, tri, hard, ...|(262144,[2437,777...|          1.0|\n",
            "|disgust|[white, girl, tal...|(262144,[13781,75...|          1.0|\n",
            "|disgust|[watch, guy, scra...|(262144,[46846,16...|          1.0|\n",
            "|  anger|[meant, rt, sarah...|(262144,[59225,77...|          0.0|\n",
            "|disgust|[peopl, live, cho...|(262144,[20488,33...|          1.0|\n",
            "|disgust|[ugh, bum, nigga,...|(262144,[89717,23...|          1.0|\n",
            "|disgust|[lawyer, believ, ...|(262144,[80452,85...|          1.0|\n",
            "|disgust|[better, share, e...|(262144,[5451,880...|          1.0|\n",
            "|disgust|[watch, interview...|(262144,[51783,66...|          1.0|\n",
            "|disgust|[find, yo, panti,...|(262144,[4592,918...|          1.0|\n",
            "+-------+--------------------+--------------------+-------------+\n",
            "only showing top 20 rows\n",
            "\n"
          ]
        }
      ]
    },
    {
      "cell_type": "code",
      "source": [
        "# Naive Bayes classifier\n",
        "from pyspark.ml.classification import NaiveBayes\n",
        "   \n",
        "nb = NaiveBayes(labelCol=\"emotion_index\",\\\n",
        "    featuresCol=\"rawFeatures\", smoothing=1.0,\\\n",
        "    modelType=\"multinomial\")\n",
        "model = nb.fit(df_train_data_features_part_A_indexed)"
      ],
      "metadata": {
        "id": "YvqSbKogQzfY"
      },
      "execution_count": null,
      "outputs": []
    },
    {
      "cell_type": "code",
      "source": [
        "df_test_data_features_part_A = to_features(test_part_A)\n",
        "df_test_data_features_part_A.show()"
      ],
      "metadata": {
        "colab": {
          "base_uri": "https://localhost:8080/"
        },
        "id": "FR5HFlbfQzli",
        "outputId": "276262cd-739a-4307-ecc8-13ec97c191cf"
      },
      "execution_count": null,
      "outputs": [
        {
          "output_type": "stream",
          "name": "stdout",
          "text": [
            "+-------+--------------------+--------------------+\n",
            "|emotion|       words_stemmed|         rawFeatures|\n",
            "+-------+--------------------+--------------------+\n",
            "|disgust|[decid, get, coff...|(262144,[22962,31...|\n",
            "|disgust|[realli, forgot, ...|(262144,[23205,60...|\n",
            "|  anger|[hear, music, mak...|(262144,[25923,89...|\n",
            "|disgust|[honesti, asham, ...|(262144,[33053,51...|\n",
            "|disgust|[ppl, eat, octopu...|(262144,[69217,20...|\n",
            "|disgust|       [fuck, wrong]|(262144,[201440,2...|\n",
            "|  anger|[ughhhhhhhhhh, d,...|(262144,[5451,106...|\n",
            "|  anger|[sentenc, transla...|(262144,[2896,971...|\n",
            "|  anger|[resent, store, h...|(262144,[25885,40...|\n",
            "|  anger|[righteous, never...|(262144,[3571,113...|\n",
            "|  anger|[god, teach, us, ...|(262144,[39498,60...|\n",
            "|disgust|[abus, christi, w...|(262144,[13188,30...|\n",
            "|  anger|[omg, leav, alon,...|(262144,[4321,700...|\n",
            "|disgust|[awckward, moment...|(262144,[114972,1...|\n",
            "|  anger|  [tri, hard, break]|(262144,[2437,124...|\n",
            "|  anger|[hate, peopl, lik...|(262144,[31571,72...|\n",
            "|  anger|[assault, serv, u...|(262144,[70953,85...|\n",
            "|  anger|[barri, scott, ja...|(262144,[106691,1...|\n",
            "|  anger|[hope, slape, let...|(262144,[60080,12...|\n",
            "|  anger|[one, work, inter...|(262144,[21823,34...|\n",
            "+-------+--------------------+--------------------+\n",
            "only showing top 20 rows\n",
            "\n"
          ]
        }
      ]
    },
    {
      "cell_type": "code",
      "source": [
        "df_test_data_features_part_A_indexed = df_test_data_features_part_A.join(df_Allemotions_indexed, 'emotion')\n",
        "df_test_data_features_part_A_indexed.show()"
      ],
      "metadata": {
        "colab": {
          "base_uri": "https://localhost:8080/"
        },
        "id": "WgRfanAgRo1G",
        "outputId": "97b77bf8-3657-4477-e866-f00973dd80dc"
      },
      "execution_count": null,
      "outputs": [
        {
          "output_type": "stream",
          "name": "stdout",
          "text": [
            "+-------+--------------------+--------------------+-------------+\n",
            "|emotion|       words_stemmed|         rawFeatures|emotion_index|\n",
            "+-------+--------------------+--------------------+-------------+\n",
            "|    joy|[oh, seem, weeken...|(262144,[18184,13...|          3.0|\n",
            "|    joy|[joy, around, us,...|(262144,[64859,10...|          3.0|\n",
            "|    joy|[figur, someth, c...|(262144,[31413,12...|          3.0|\n",
            "|    joy|[done, one, conti...|(262144,[21823,25...|          3.0|\n",
            "|    joy|[one, common, par...|(262144,[21823,85...|          3.0|\n",
            "|    joy|[love, dramat, sa...|(262144,[97564,15...|          3.0|\n",
            "|    joy|[give, joy, spend...|(262144,[76764,10...|          3.0|\n",
            "|    joy|[leav, hous, driv...|(262144,[59776,98...|          3.0|\n",
            "|    joy|[shower, back, co...|(262144,[132270,1...|          3.0|\n",
            "|    joy|[famili, live, sc...|(262144,[4790,226...|          3.0|\n",
            "|    joy|[know, dissert, t...|(262144,[16673,13...|          3.0|\n",
            "|    joy|[anoth, day, amer...|(262144,[113722,1...|          3.0|\n",
            "|    joy|[celebr, raini, h...|(262144,[29066,12...|          3.0|\n",
            "|    joy|[amen, rt, got, s...|(262144,[77407,20...|          3.0|\n",
            "|    joy|[write, dissert, ...|(262144,[16673,14...|          3.0|\n",
            "|    joy|[way, wilkinson, ...|(262144,[8804,254...|          3.0|\n",
            "|    joy|[gave, notic, vac...|(262144,[892,3153...|          3.0|\n",
            "|    joy|[total, inspir, d...|(262144,[31590,43...|          3.0|\n",
            "|    joy|[thank, train, jo...|(262144,[17893,62...|          3.0|\n",
            "|    joy|[old, niec, sang,...|(262144,[42229,45...|          3.0|\n",
            "+-------+--------------------+--------------------+-------------+\n",
            "only showing top 20 rows\n",
            "\n"
          ]
        }
      ]
    },
    {
      "cell_type": "code",
      "source": [
        "from pyspark.ml.evaluation import MulticlassClassificationEvaluator\n",
        "predictions = model.transform(df_test_data_features_part_A_indexed)\n",
        "predictions.select(\"emotion\", \"emotion_index\", \n",
        "    \"probability\", \"prediction\").show()\n",
        "evaluator =\\\n",
        "    MulticlassClassificationEvaluator(labelCol=\"emotion_index\",\\\n",
        "    predictionCol=\"prediction\", metricName=\"accuracy\")\n",
        "accuracy = evaluator.evaluate(predictions)\n",
        "print(\"Test set accuracy = \" + str(accuracy))"
      ],
      "metadata": {
        "colab": {
          "base_uri": "https://localhost:8080/"
        },
        "id": "EqwZqqbbRo56",
        "outputId": "0b217cf4-7438-431b-cbeb-07b587cc9c0b"
      },
      "execution_count": null,
      "outputs": [
        {
          "output_type": "stream",
          "name": "stdout",
          "text": [
            "+-------+-------------+--------------------+----------+\n",
            "|emotion|emotion_index|         probability|prediction|\n",
            "+-------+-------------+--------------------+----------+\n",
            "|    joy|          3.0|[4.87901133922655...|       3.0|\n",
            "|    joy|          3.0|[4.58809973435617...|       3.0|\n",
            "|    joy|          3.0|[0.01730116890444...|       3.0|\n",
            "|    joy|          3.0|[2.83085343041881...|       3.0|\n",
            "|    joy|          3.0|[0.00108184998744...|       3.0|\n",
            "|    joy|          3.0|[8.62202165197623...|       3.0|\n",
            "|    joy|          3.0|[1.67025392169679...|       3.0|\n",
            "|    joy|          3.0|[1.05466560469644...|       3.0|\n",
            "|    joy|          3.0|[6.26886719002542...|       3.0|\n",
            "|    joy|          3.0|[2.66352103997177...|       3.0|\n",
            "|    joy|          3.0|[1.44740020609555...|       3.0|\n",
            "|    joy|          3.0|[7.70003215673989...|       3.0|\n",
            "|    joy|          3.0|[2.13968550064955...|       3.0|\n",
            "|    joy|          3.0|[5.0100372077993E...|       3.0|\n",
            "|    joy|          3.0|[0.00108129665967...|       3.0|\n",
            "|    joy|          3.0|[3.27330347985454...|       3.0|\n",
            "|    joy|          3.0|[4.14525484918065...|       3.0|\n",
            "|    joy|          3.0|[8.14280448067728...|       3.0|\n",
            "|    joy|          3.0|[1.62767787230096...|       3.0|\n",
            "|    joy|          3.0|[8.08106607302168...|       3.0|\n",
            "+-------+-------------+--------------------+----------+\n",
            "only showing top 20 rows\n",
            "\n",
            "Test set accuracy = 0.47781731909845787\n"
          ]
        }
      ]
    },
    {
      "cell_type": "code",
      "source": [
        "(training_part_B, test_part_B) = df_part_B.randomSplit([0.8, 0.2], seed = 50)\n",
        "print (training_part_B.first())"
      ],
      "metadata": {
        "colab": {
          "base_uri": "https://localhost:8080/"
        },
        "id": "WQ49CPEUSSX4",
        "outputId": "f9e7316e-21bf-40da-f591-38b991a55142"
      },
      "execution_count": null,
      "outputs": [
        {
          "output_type": "stream",
          "name": "stdout",
          "text": [
            "Row(content=\"136211499625627648:\\tI was ridiculous mad with @Jilian_Lovex  and @BritUntitled . Seriously, don't mess with important school papers.\\t\", emotion='anger')\n"
          ]
        }
      ]
    },
    {
      "cell_type": "code",
      "source": [
        "print(\"The total number of records (count) of the training data\",training_part_B.count())"
      ],
      "metadata": {
        "colab": {
          "base_uri": "https://localhost:8080/"
        },
        "id": "jK8zQLMJSSdb",
        "outputId": "4393f5da-661f-48bb-9865-b5c09abdda37"
      },
      "execution_count": null,
      "outputs": [
        {
          "output_type": "stream",
          "name": "stdout",
          "text": [
            "The total number of records (count) of the training data 10894\n"
          ]
        }
      ]
    },
    {
      "cell_type": "code",
      "source": [
        "df_train_features_part_B = to_features(training_part_B)\n",
        "df_train_features_part_B.show()"
      ],
      "metadata": {
        "colab": {
          "base_uri": "https://localhost:8080/"
        },
        "id": "8iHvx27HSShK",
        "outputId": "7121e858-6342-4fbf-fa28-c2a43d7c66c1"
      },
      "execution_count": null,
      "outputs": [
        {
          "output_type": "stream",
          "name": "stdout",
          "text": [
            "+-------+--------------------+--------------------+\n",
            "|emotion|       words_stemmed|         rawFeatures|\n",
            "+-------+--------------------+--------------------+\n",
            "|  anger|[ridicul, mad, me...|(262144,[32055,61...|\n",
            "|  anger|[hear, music, mak...|(262144,[25923,89...|\n",
            "|  anger|[meant, rt, sarah...|(262144,[59225,77...|\n",
            "|  anger|[automat, respons...|(262144,[69395,12...|\n",
            "|  anger|[resent, abus, es...|(262144,[13188,40...|\n",
            "|  anger|[automat, respons...|(262144,[69395,12...|\n",
            "|  anger|[ughhhhhhhhhh, d,...|(262144,[5451,106...|\n",
            "|  anger|[sentenc, transla...|(262144,[2896,971...|\n",
            "|  anger|[lose, pen, lid, ...|(262144,[32055,91...|\n",
            "|  anger|[righteous, never...|(262144,[3571,113...|\n",
            "|  anger|[learn, righteous...|(262144,[3571,113...|\n",
            "|  anger|[god, teach, us, ...|(262144,[39498,60...|\n",
            "|  anger|[rt, righteous, n...|(262144,[3571,774...|\n",
            "|  anger|[chang, think, wo...|(262144,[24031,84...|\n",
            "|  anger|[buri, kill, buri...|(262144,[46561,57...|\n",
            "|  anger|[bottom, hope, ha...|(262144,[37521,10...|\n",
            "|  anger|[preechitrt, righ...|(262144,[3571,403...|\n",
            "|  anger|[tonight, shitti,...|(262144,[71085,73...|\n",
            "|  anger|[said, say, mayb,...|(262144,[85348,89...|\n",
            "|  anger|[omg, leav, alon,...|(262144,[4321,700...|\n",
            "+-------+--------------------+--------------------+\n",
            "only showing top 20 rows\n",
            "\n"
          ]
        }
      ]
    },
    {
      "cell_type": "code",
      "source": [
        "df_Allemotions_in_file = test_part_B.select(\"emotion\").distinct()\n",
        "df_Allemotions_in_file.show()"
      ],
      "metadata": {
        "colab": {
          "base_uri": "https://localhost:8080/"
        },
        "id": "KISNbsikSSlM",
        "outputId": "25fdcf9b-f67a-4d8d-cfeb-05ca414eb520"
      },
      "execution_count": null,
      "outputs": [
        {
          "output_type": "stream",
          "name": "stdout",
          "text": [
            "+--------+\n",
            "| emotion|\n",
            "+--------+\n",
            "|     joy|\n",
            "|   anger|\n",
            "|surprise|\n",
            "+--------+\n",
            "\n"
          ]
        }
      ]
    },
    {
      "cell_type": "code",
      "source": [
        "from pyspark.ml.feature import StringIndexer\n",
        "indexer = StringIndexer(inputCol = 'emotion', outputCol = 'emotion_index')"
      ],
      "metadata": {
        "id": "qcGxphSbSSop"
      },
      "execution_count": null,
      "outputs": []
    },
    {
      "cell_type": "code",
      "source": [
        "df_Allemotions_indexed = indexer.fit(df_Allemotions_in_file).transform(df_Allemotions_in_file)\n",
        "df_Allemotions_indexed.show()\n",
        "\n",
        "df_train_data_features_part_B_indexed = df_train_features_part_B.join(df_Allemotions_indexed, 'emotion')\n",
        "df_train_data_features_part_B_indexed.show()"
      ],
      "metadata": {
        "colab": {
          "base_uri": "https://localhost:8080/"
        },
        "id": "-laibQsURo9a",
        "outputId": "6e1ed30b-f34d-4a61-c8ad-3847dadb81b4"
      },
      "execution_count": null,
      "outputs": [
        {
          "output_type": "stream",
          "name": "stdout",
          "text": [
            "+--------+-------------+\n",
            "| emotion|emotion_index|\n",
            "+--------+-------------+\n",
            "|     joy|          1.0|\n",
            "|   anger|          0.0|\n",
            "|surprise|          2.0|\n",
            "+--------+-------------+\n",
            "\n",
            "+-------+--------------------+--------------------+-------------+\n",
            "|emotion|       words_stemmed|         rawFeatures|emotion_index|\n",
            "+-------+--------------------+--------------------+-------------+\n",
            "|  anger|[ridicul, mad, me...|(262144,[32055,61...|          0.0|\n",
            "|  anger|[hear, music, mak...|(262144,[25923,89...|          0.0|\n",
            "|  anger|[meant, rt, sarah...|(262144,[59225,77...|          0.0|\n",
            "|  anger|[automat, respons...|(262144,[69395,12...|          0.0|\n",
            "|  anger|[resent, abus, es...|(262144,[13188,40...|          0.0|\n",
            "|  anger|[automat, respons...|(262144,[69395,12...|          0.0|\n",
            "|  anger|[ughhhhhhhhhh, d,...|(262144,[5451,106...|          0.0|\n",
            "|  anger|[sentenc, transla...|(262144,[2896,971...|          0.0|\n",
            "|  anger|[lose, pen, lid, ...|(262144,[32055,91...|          0.0|\n",
            "|  anger|[righteous, never...|(262144,[3571,113...|          0.0|\n",
            "|  anger|[learn, righteous...|(262144,[3571,113...|          0.0|\n",
            "|  anger|[god, teach, us, ...|(262144,[39498,60...|          0.0|\n",
            "|  anger|[rt, righteous, n...|(262144,[3571,774...|          0.0|\n",
            "|  anger|[chang, think, wo...|(262144,[24031,84...|          0.0|\n",
            "|  anger|[buri, kill, buri...|(262144,[46561,57...|          0.0|\n",
            "|  anger|[bottom, hope, ha...|(262144,[37521,10...|          0.0|\n",
            "|  anger|[preechitrt, righ...|(262144,[3571,403...|          0.0|\n",
            "|  anger|[tonight, shitti,...|(262144,[71085,73...|          0.0|\n",
            "|  anger|[said, say, mayb,...|(262144,[85348,89...|          0.0|\n",
            "|  anger|[omg, leav, alon,...|(262144,[4321,700...|          0.0|\n",
            "+-------+--------------------+--------------------+-------------+\n",
            "only showing top 20 rows\n",
            "\n"
          ]
        }
      ]
    },
    {
      "cell_type": "code",
      "source": [
        "# Naive Bayes classifier\n",
        "from pyspark.ml.classification import NaiveBayes\n",
        "   \n",
        "nb = NaiveBayes(labelCol=\"emotion_index\",\\\n",
        "    featuresCol=\"rawFeatures\", smoothing=1.0,\\\n",
        "    modelType=\"multinomial\")\n",
        "model = nb.fit(df_train_data_features_part_B_indexed)"
      ],
      "metadata": {
        "id": "jgGjf9OZTP_B"
      },
      "execution_count": null,
      "outputs": []
    },
    {
      "cell_type": "code",
      "source": [
        "df_test_data_features_part_B = to_features(test_part_B)\n",
        "df_test_data_features_part_B.show()"
      ],
      "metadata": {
        "colab": {
          "base_uri": "https://localhost:8080/"
        },
        "id": "MtLr5gjATQIo",
        "outputId": "041cb844-270d-498a-aa2b-8fe0873af6fe"
      },
      "execution_count": null,
      "outputs": [
        {
          "output_type": "stream",
          "name": "stdout",
          "text": [
            "+-------+--------------------+--------------------+\n",
            "|emotion|       words_stemmed|         rawFeatures|\n",
            "+-------+--------------------+--------------------+\n",
            "|  anger|[resent, store, h...|(262144,[25885,40...|\n",
            "|  anger|[buri, kill, buri...|(262144,[46561,57...|\n",
            "|  anger|[assault, serv, u...|(262144,[70953,85...|\n",
            "|  anger|[one, day, go, wr...|(262144,[21823,14...|\n",
            "|  anger| [nano, recal, find]|(262144,[91878,10...|\n",
            "|  anger|[wish, go, bitch,...|(262144,[2192,181...|\n",
            "|  anger|[fact, matter, fr...|(262144,[1512,608...|\n",
            "|  anger|[take, larger, pe...|(262144,[15769,33...|\n",
            "|  anger|[get, insid, buil...|(262144,[33140,41...|\n",
            "|  anger|[snipe, cod, come...|(262144,[13781,15...|\n",
            "|  anger|[manag, sinc, peo...|(262144,[1218,928...|\n",
            "|  anger|[fair, warn, b, l...|(262144,[21823,23...|\n",
            "|  anger|[bud, one, put, b...|(262144,[5765,184...|\n",
            "|  anger|          [oh, solv]|(262144,[18184,22...|\n",
            "|  anger|[tri, get, stuff,...|(262144,[19818,32...|\n",
            "|  anger|[skyrim, glitch, ...|(262144,[51471,89...|\n",
            "|  anger|[jus, wanna, argu...|(262144,[14041,32...|\n",
            "|  anger|[understand, unde...|(262144,[21823,70...|\n",
            "|  anger|[yeah, serious, f...|(262144,[61899,82...|\n",
            "|  anger|  [stupid, cow, get]|(262144,[1696,638...|\n",
            "+-------+--------------------+--------------------+\n",
            "only showing top 20 rows\n",
            "\n"
          ]
        }
      ]
    },
    {
      "cell_type": "code",
      "source": [
        "df_test_data_features_part_B_indexed = df_test_data_features_part_B.join(df_Allemotions_indexed, 'emotion')\n",
        "df_test_data_features_part_B_indexed.show()"
      ],
      "metadata": {
        "colab": {
          "base_uri": "https://localhost:8080/"
        },
        "id": "LhqURdlvTQSa",
        "outputId": "3ba8ba55-4d6d-4d36-eab7-f3cc7131c7fa"
      },
      "execution_count": null,
      "outputs": [
        {
          "output_type": "stream",
          "name": "stdout",
          "text": [
            "+-------+--------------------+--------------------+-------------+\n",
            "|emotion|       words_stemmed|         rawFeatures|emotion_index|\n",
            "+-------+--------------------+--------------------+-------------+\n",
            "|    joy|[oh, seem, weeken...|(262144,[18184,13...|          1.0|\n",
            "|    joy|[joy, around, us,...|(262144,[64859,10...|          1.0|\n",
            "|    joy|[knacker, prep, t...|(262144,[29129,11...|          1.0|\n",
            "|    joy|[believ, day, lef...|(262144,[121517,1...|          1.0|\n",
            "|    joy|  [footbal, banquet]|(262144,[94429,13...|          1.0|\n",
            "|    joy|[final, good, mor...|(262144,[61899,11...|          1.0|\n",
            "|    joy|[know, dissert, t...|(262144,[16673,13...|          1.0|\n",
            "|    joy|[ever, want, writ...|(262144,[89554,14...|          1.0|\n",
            "|    joy|[first, time, yea...|(262144,[34194,12...|          1.0|\n",
            "|    joy|[let, christma, c...|(262144,[129434,1...|          1.0|\n",
            "|    joy|[omg, feel, like,...|(262144,[17290,61...|          1.0|\n",
            "|    joy|       [final, exam]|(262144,[66864,24...|          1.0|\n",
            "|    joy|[wake, ginger, an...|(262144,[4547,489...|          1.0|\n",
            "|    joy|[happen, us, allo...|(262144,[45208,60...|          1.0|\n",
            "|    joy|[happi, bat, ques...|(262144,[141579,1...|          1.0|\n",
            "|    joy|[ed, hour, school...|(262144,[54961,61...|          1.0|\n",
            "|    joy|[littl, chunder, ...|(262144,[34343,40...|          1.0|\n",
            "|    joy|[current, overwhe...|(262144,[20488,36...|          1.0|\n",
            "|    joy|[hair, go, freez,...|(262144,[110286,1...|          1.0|\n",
            "|    joy|[well, bon, bah, ...|(262144,[3924,433...|          1.0|\n",
            "+-------+--------------------+--------------------+-------------+\n",
            "only showing top 20 rows\n",
            "\n"
          ]
        }
      ]
    },
    {
      "cell_type": "code",
      "source": [
        "from pyspark.ml.evaluation import MulticlassClassificationEvaluator\n",
        "predictions = model.transform(df_test_data_features_part_A_indexed)\n",
        "predictions.select(\"emotion\", \"emotion_index\", \n",
        "    \"probability\", \"prediction\").show()\n",
        "evaluator =\\\n",
        "    MulticlassClassificationEvaluator(labelCol=\"emotion_index\",\\\n",
        "    predictionCol=\"prediction\", metricName=\"accuracy\")\n",
        "accuracy = evaluator.evaluate(predictions)\n",
        "print(\"Test set accuracy = \" + str(accuracy))"
      ],
      "metadata": {
        "colab": {
          "base_uri": "https://localhost:8080/"
        },
        "id": "RyIJsfeeT9xC",
        "outputId": "3495053d-0521-4761-b802-a602ea28ee40"
      },
      "execution_count": null,
      "outputs": [
        {
          "output_type": "stream",
          "name": "stdout",
          "text": [
            "+-------+-------------+--------------------+----------+\n",
            "|emotion|emotion_index|         probability|prediction|\n",
            "+-------+-------------+--------------------+----------+\n",
            "|    joy|          3.0|[1.56816316856732...|       1.0|\n",
            "|    joy|          3.0|[6.37152517618134...|       1.0|\n",
            "|    joy|          3.0|[0.01054223939004...|       1.0|\n",
            "|    joy|          3.0|[1.38691470194256...|       1.0|\n",
            "|    joy|          3.0|[6.02388942501134...|       1.0|\n",
            "|    joy|          3.0|[1.22817366994222...|       1.0|\n",
            "|    joy|          3.0|[1.11414190375292...|       1.0|\n",
            "|    joy|          3.0|[7.21375843844416...|       1.0|\n",
            "|    joy|          3.0|[7.70266821494761...|       1.0|\n",
            "|    joy|          3.0|[1.41328011102548...|       1.0|\n",
            "|    joy|          3.0|[1.47574756610789...|       1.0|\n",
            "|    joy|          3.0|[2.53695963824126...|       1.0|\n",
            "|    joy|          3.0|[1.34757267566723...|       1.0|\n",
            "|    joy|          3.0|[6.00213290733136...|       1.0|\n",
            "|    joy|          3.0|[5.52010778647383...|       1.0|\n",
            "|    joy|          3.0|[1.06064802218200...|       1.0|\n",
            "|    joy|          3.0|[1.54238770617253...|       1.0|\n",
            "|    joy|          3.0|[1.38666135221632...|       1.0|\n",
            "|    joy|          3.0|[3.19022443500435...|       1.0|\n",
            "|    joy|          3.0|[1.52603992947540...|       1.0|\n",
            "+-------+-------------+--------------------+----------+\n",
            "only showing top 20 rows\n",
            "\n",
            "Test set accuracy = 0.04768683274021352\n"
          ]
        }
      ]
    },
    {
      "cell_type": "code",
      "source": [
        ""
      ],
      "metadata": {
        "id": "-jtM54qCT924"
      },
      "execution_count": null,
      "outputs": []
    },
    {
      "cell_type": "code",
      "source": [
        ""
      ],
      "metadata": {
        "id": "WZShdySOTQcs"
      },
      "execution_count": null,
      "outputs": []
    }
  ]
}