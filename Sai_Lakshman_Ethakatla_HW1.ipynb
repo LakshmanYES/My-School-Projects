{
  "nbformat": 4,
  "nbformat_minor": 0,
  "metadata": {
    "colab": {
      "name": "Sai Lakshman Ethakatla-HW1.ipynb",
      "provenance": [],
      "collapsed_sections": [],
      "authorship_tag": "ABX9TyPlVPk1B5WIb0nhlFE6HAuE",
      "include_colab_link": true
    },
    "kernelspec": {
      "name": "python3",
      "display_name": "Python 3"
    },
    "language_info": {
      "name": "python"
    }
  },
  "cells": [
    {
      "cell_type": "markdown",
      "metadata": {
        "id": "view-in-github",
        "colab_type": "text"
      },
      "source": [
        "<a href=\"https://colab.research.google.com/github/LakshmanYES/My-School-Projects/blob/main/Sai_Lakshman_Ethakatla_HW1.ipynb\" target=\"_parent\"><img src=\"https://colab.research.google.com/assets/colab-badge.svg\" alt=\"Open In Colab\"/></a>"
      ]
    },
    {
      "cell_type": "code",
      "execution_count": null,
      "metadata": {
        "id": "T0-e_jNZrF_-"
      },
      "outputs": [],
      "source": [
        "!wget -q https://dlcdn.apache.org/spark/spark-3.1.2/spark-3.1.2-bin-hadoop2.7.tgz \n",
        "!tar xf spark-3.1.2-bin-hadoop2.7.tgz\n",
        "import os\n",
        "os.environ[\"JAVA_HOME\"] = \"/usr/lib/jvm/default-java\"\n",
        "os.environ[\"SPARK_HOME\"] = \"/content/spark-3.1.2-bin-hadoop2.7\"\n",
        "!pip install -q findspark\n",
        "import findspark\n",
        "findspark.init()"
      ]
    },
    {
      "cell_type": "code",
      "source": [
        "from google.colab import drive\n",
        "drive.mount('/content/drive')"
      ],
      "metadata": {
        "colab": {
          "base_uri": "https://localhost:8080/"
        },
        "id": "rnQ1w39asGTF",
        "outputId": "7c4d2b81-997e-4d13-d084-26d0ef3d97da"
      },
      "execution_count": null,
      "outputs": [
        {
          "output_type": "stream",
          "name": "stdout",
          "text": [
            "Mounted at /content/drive\n"
          ]
        }
      ]
    },
    {
      "cell_type": "code",
      "source": [
        "from pyspark.sql import SparkSession\n",
        "spark = SparkSession.builder\\\n",
        "        .master(\"local\")\\\n",
        "        .appName(\"Colab\")\\\n",
        "        .config('spark.ui.port', '4050')\\\n",
        "        .getOrCreate()"
      ],
      "metadata": {
        "id": "43zDexg1gBep"
      },
      "execution_count": null,
      "outputs": []
    },
    {
      "cell_type": "code",
      "source": [
        "from pyspark.sql.types import *\n",
        "data_schema = StructType([\n",
        "        StructField(\"Market_place\", StringType(), True),\n",
        "        StructField(\"Customer_ID\", IntegerType(), True),\n",
        "        StructField(\"Review_ID\", StringType(), True),\n",
        "        StructField(\"Product_ID\", StringType(), True),\n",
        "        StructField(\"product_parent\", FloatType(), True),\n",
        "        StructField(\"Product_Category\", StringType(), True),\n",
        "        StructField(\"Star_Rating\", IntegerType(), True),\n",
        "        StructField(\"Helpful_Votes\", IntegerType(), True),\n",
        "        StructField(\"Total_Votes\", IntegerType(), True),\n",
        "        StructField(\"Vine\", StringType(), True),\n",
        "        StructField(\"Verified_Purchase\", StringType(), True),\n",
        "        StructField(\"Review_Headline\", StringType(), True),\n",
        "        StructField(\"Review_Body\", StringType(), True),\n",
        "        StructField(\"Review_Date\", DateType(), True),\n",
        "        ])\n"
      ],
      "metadata": {
        "id": "7QeGoHvWA3zO"
      },
      "execution_count": null,
      "outputs": []
    },
    {
      "cell_type": "code",
      "source": [
        "df = spark.read.csv('/content/drive/MyDrive/amazon_reviews_us_Software_clean.csv', sep=',',\n",
        "                         schema = data_schema, header=True)\n"
      ],
      "metadata": {
        "id": "ZD-NBmeWsGZ3"
      },
      "execution_count": null,
      "outputs": []
    },
    {
      "cell_type": "code",
      "source": [
        "df.count()"
      ],
      "metadata": {
        "colab": {
          "base_uri": "https://localhost:8080/"
        },
        "id": "jUE0YKFRwvJ5",
        "outputId": "53e3a11a-64ba-4be1-e2be-3de2af1348bf"
      },
      "execution_count": null,
      "outputs": [
        {
          "output_type": "execute_result",
          "data": {
            "text/plain": [
              "1000"
            ]
          },
          "metadata": {},
          "execution_count": 7
        }
      ]
    },
    {
      "cell_type": "code",
      "source": [
        "df.head()"
      ],
      "metadata": {
        "id": "lKNY54TTw4AQ",
        "colab": {
          "base_uri": "https://localhost:8080/"
        },
        "outputId": "d507c582-48ff-4bc9-acfb-eedd7184c224"
      },
      "execution_count": null,
      "outputs": [
        {
          "output_type": "execute_result",
          "data": {
            "text/plain": [
              "Row(Market_place='US', Customer_ID=42605767, Review_ID='R3EFW2STIYIY0I', Product_ID='B00MUTIDKI', product_parent=248732224.0, Product_Category='Software', Star_Rating=1, Helpful_Votes=2, Total_Votes=2, Vine='N', Verified_Purchase='Y', Review_Headline='I was very disappointed with this', Review_Body=\"I was very disappointed with this. The description said it was compatible with Windows XP, but reading the box when I received it, it was not. I had to pay a little more for Trend Micro which was compatiable with Windows XP. I notice on two PC's on which I installed Trend Micro, that the computers boot up faster than they did with McAfee 2014.<br /><br />Since I would have had to pay postage to return this McAfee 2015, I decided to keep it as the price had been good. I will use this on a Windows 7 laptop which I have upgraded to the free version of Windows 10. Windows 10 includes Microsoft's antivirus program Defender which the reviews say is as good as the pay software. So, after the McAfee 2015 expires in a year, I will stick with Defender and Trend Micro. McAffehas lost a long time customer cause they refused to support folks with Windows XP computers.\", Review_Date=datetime.date(2015, 8, 31))"
            ]
          },
          "metadata": {},
          "execution_count": 8
        }
      ]
    },
    {
      "cell_type": "code",
      "source": [
        "df.show()"
      ],
      "metadata": {
        "colab": {
          "base_uri": "https://localhost:8080/"
        },
        "id": "wAKTflLQU0Tj",
        "outputId": "dc5a2d73-2e75-4cce-ff80-a3c2b1b24b6b"
      },
      "execution_count": null,
      "outputs": [
        {
          "output_type": "stream",
          "name": "stdout",
          "text": [
            "+------------+-----------+--------------+----------+--------------+----------------+-----------+-------------+-----------+----+-----------------+--------------------+--------------------+-----------+\n",
            "|Market_place|Customer_ID|     Review_ID|Product_ID|product_parent|Product_Category|Star_Rating|Helpful_Votes|Total_Votes|Vine|Verified_Purchase|     Review_Headline|         Review_Body|Review_Date|\n",
            "+------------+-----------+--------------+----------+--------------+----------------+-----------+-------------+-----------+----+-----------------+--------------------+--------------------+-----------+\n",
            "|          US|   42605767|R3EFW2STIYIY0I|B00MUTIDKI|  2.48732224E8|        Software|          1|            2|          2|   N|                Y|I was very disapp...|I was very disapp...| 2015-08-31|\n",
            "|          US|   51771800|R12NR0R5A9F7FT|B00EPACNUG|  5.31462336E8|        Software|          5|            0|          0|   N|                Y|          Five Stars|I had a little st...| 2015-08-31|\n",
            "|          US|   16053526|R1LSH74R9XAP59|B00164AZA4|  4.73982496E8|        Software|          2|            0|          1|   N|                Y|    Have windows 10?|Tried to download...| 2015-08-31|\n",
            "|          US|   15319481|R1QXUNTF76K7L6|B00E6LIEFM|  1.89774192E8|        Software|          2|            0|          0|   N|                Y|Disc was corrupt,...|Disc was corrupt,...| 2015-08-31|\n",
            "|          US|    1441820|R2F7DR75PS8NKT|B00VWEBG06|   8.5247034E8|        Software|          5|            0|          0|   N|                Y|          Five Stars|Just what I neede...| 2015-08-31|\n",
            "|          US|   37107850|R2C1DJSCC8UFS6|B00EP7AP7C|   2.7936064E8|        Software|          3|            0|          0|   N|                Y|         Three Stars|Didn't like havin...| 2015-08-31|\n",
            "|          US|     302120|R1AXGS1W4YFXMX|B00OW2PET4|    7.299712E8|        Software|          1|            0|          2|   N|                Y|            One Star|it does not work ...| 2015-08-31|\n",
            "|          US|   20193077|R1XU1B93402SYJ|B00N4OLCRO|   7.7657267E8|        Software|          1|            1|          1|   N|                Y|Can't load to my ...|I have tried for ...| 2015-08-31|\n",
            "|          US|   13106017|R2U432NB3OPVR0|B005CELN8W|  2.22071424E8|        Software|          5|            0|          0|   N|                Y|          Five Stars|       love the game| 2015-08-31|\n",
            "|          US|   32587108|R3R6FIMIOQ5SP9|B005CELL1G|  1.68801424E8|        Software|          5|            0|          0|   N|                Y|Meets our small b...|Great software. A...| 2015-08-31|\n",
            "|          US|   32020017|R12TX6V09C9QNQ|B00H09BOXQ|  4.55503008E8|        Software|          5|            0|          0|   N|                Y|          Five Stars|             Awesome| 2015-08-31|\n",
            "|          US|   13376158|R33UCII6YKUMKV|B00MCLGAAO|    6.520695E8|        Software|          3|            2|          2|   N|                Y|Nothing New in Th...|To start this rev...| 2015-08-31|\n",
            "|          US|   47098110| RZKDAB9TGO053|B00P6U8C5Y|   8.7160288E8|        Software|          1|            0|          0|   N|                Y|Missing key infor...|Some key provisio...| 2015-08-31|\n",
            "|          US|   24083274|R2EMN2EEDN73ZA|B00MA5TPN6|   2.9903808E8|        Software|          4|            0|          0|   N|                Y|Probably the best...|Probably the best...| 2015-08-31|\n",
            "|          US|   41137196| RU9LHN1NJDVOI|B000EQ868I|  5.34229504E8|        Software|          5|            0|          0|   N|                Y|          Five Stars|I was pleased wit...| 2015-08-31|\n",
            "|          US|   18003829|R19910SO17BQUE|B00MYXTCMI|   4.2668324E7|        Software|          5|            0|          0|   N|                Y|... what it is su...|This program does...| 2015-08-31|\n",
            "|          US|   14460749|R32N10BW8MH847|B008PIQXP0|  1.16724368E8|        Software|          4|            2|          4|   N|                Y|          Four Stars|Again it should h...| 2015-08-31|\n",
            "|          US|   12641855| R2DNM85DH7FGK|B00KAFOXXU|  4.71261952E8|        Software|          5|            0|          2|   N|                Y|          Five Stars|               great| 2015-08-31|\n",
            "|          US|   13775565|R2G9RFFW051RWY|B00OKSOLE4|   6.9452083E8|        Software|          5|            0|          0|   N|                Y|          Five Stars|        Easy to use.| 2015-08-31|\n",
            "|          US|   31044774|R26CC1STPSUHBS|B01019T6O0|  5.10976928E8|        Software|          1|           27|         39|   N|                N|\"Do NOT take the ...|Do NOT take the &...| 2015-08-31|\n",
            "+------------+-----------+--------------+----------+--------------+----------------+-----------+-------------+-----------+----+-----------------+--------------------+--------------------+-----------+\n",
            "only showing top 20 rows\n",
            "\n"
          ]
        }
      ]
    },
    {
      "cell_type": "code",
      "source": [
        "unique_product = df.select(\"product_id\").distinct().count()\n",
        "print('The total number of unique products',unique_product)"
      ],
      "metadata": {
        "colab": {
          "base_uri": "https://localhost:8080/"
        },
        "id": "DXBMc_p8w4Qf",
        "outputId": "175c9305-18ff-4451-f4d5-f63722f40c0e"
      },
      "execution_count": null,
      "outputs": [
        {
          "output_type": "stream",
          "name": "stdout",
          "text": [
            "The total number of unique products 597\n"
          ]
        }
      ]
    },
    {
      "cell_type": "code",
      "source": [
        "unique_customer = df.select(\"Customer_ID\").distinct().count()\n",
        "print('The total number of unique customers',unique_customer)"
      ],
      "metadata": {
        "colab": {
          "base_uri": "https://localhost:8080/"
        },
        "id": "8KHCidlFCzqI",
        "outputId": "5a0497d2-773a-4272-e0f8-c236689ded47"
      },
      "execution_count": null,
      "outputs": [
        {
          "output_type": "stream",
          "name": "stdout",
          "text": [
            "The total number of unique customers 915\n"
          ]
        }
      ]
    },
    {
      "cell_type": "code",
      "source": [
        "import pyspark.sql.functions as func\n",
        "AVG_ratings = df.agg(func.avg(\"Star_Rating\")).collect()[0][0]\n",
        "print('The average of ratings',AVG_ratings)"
      ],
      "metadata": {
        "colab": {
          "base_uri": "https://localhost:8080/"
        },
        "id": "rOjdExILC_-F",
        "outputId": "3287e6f8-d8ac-44be-9e05-baf3b6365d6f"
      },
      "execution_count": null,
      "outputs": [
        {
          "output_type": "stream",
          "name": "stdout",
          "text": [
            "The average of ratings 3.739\n"
          ]
        }
      ]
    },
    {
      "cell_type": "code",
      "source": [
        "AVG_char_length_text = df.agg(func.avg(func.length(\"Review_Body\"))).collect()[0][0]\n",
        "print('The average  character length of review text',AVG_char_length_text)"
      ],
      "metadata": {
        "colab": {
          "base_uri": "https://localhost:8080/"
        },
        "id": "aqBTUsJjDrkc",
        "outputId": "e33e4652-5560-4df8-cd11-2e26f703eadf"
      },
      "execution_count": null,
      "outputs": [
        {
          "output_type": "stream",
          "name": "stdout",
          "text": [
            "The average  character length of review text 277.471\n"
          ]
        }
      ]
    }
  ]
}