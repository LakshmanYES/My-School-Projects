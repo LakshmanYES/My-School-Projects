{
  "nbformat": 4,
  "nbformat_minor": 0,
  "metadata": {
    "colab": {
      "name": "Sai_Lakshman_Ethakatla_Final-Part_2.ipynb",
      "provenance": [],
      "mount_file_id": "12HrmgyftakGsAvuH7jMyJnl-5_wme7qt",
      "authorship_tag": "ABX9TyMNoy5qhDtaYRoPPvka4RiB",
      "include_colab_link": true
    },
    "kernelspec": {
      "name": "python3",
      "display_name": "Python 3"
    },
    "language_info": {
      "name": "python"
    }
  },
  "cells": [
    {
      "cell_type": "markdown",
      "metadata": {
        "id": "view-in-github",
        "colab_type": "text"
      },
      "source": [
        "<a href=\"https://colab.research.google.com/github/LakshmanYES/My-School-Projects/blob/main/Sai_Lakshman_Ethakatla_Final_Part_2.ipynb\" target=\"_parent\"><img src=\"https://colab.research.google.com/assets/colab-badge.svg\" alt=\"Open In Colab\"/></a>"
      ]
    },
    {
      "cell_type": "code",
      "execution_count": null,
      "metadata": {
        "id": "y6-xu_OwJLFI"
      },
      "outputs": [],
      "source": [
        "# Spark init\n",
        "!wget -q https://dlcdn.apache.org/spark/spark-3.1.2/spark-3.1.2-bin-hadoop2.7.tgz \n",
        "!tar xf spark-3.1.2-bin-hadoop2.7.tgz\n",
        "import os\n",
        "os.environ[\"JAVA_HOME\"] = \"/usr/lib/jvm/default-java\"\n",
        "os.environ[\"SPARK_HOME\"] = \"/content/spark-3.1.2-bin-hadoop2.7\"\n",
        "!pip install -q findspark\n",
        "import findspark\n",
        "findspark.init()"
      ]
    },
    {
      "cell_type": "code",
      "source": [
        "from pyspark import SparkContext\n",
        "from pyspark import SparkConf\n",
        "from pyspark.sql import SparkSession\n",
        "conf = SparkConf().setAppName(\"My Spark App\").setMaster(\"local\")\n",
        "sc = SparkContext(conf=conf)\n",
        "spark = SparkSession(sc)"
      ],
      "metadata": {
        "id": "fw57hc-cJLeJ"
      },
      "execution_count": null,
      "outputs": []
    },
    {
      "cell_type": "code",
      "source": [
        "!wget --continue https://files.consumerfinance.gov/ccdb/complaints.csv.zip  -O /content/drive/MyDrive/data/complaints.csv.zip"
      ],
      "metadata": {
        "colab": {
          "base_uri": "https://localhost:8080/"
        },
        "id": "nT6z8CDWJLg2",
        "outputId": "9ce73d38-d40c-4443-a930-f895dfec43b3"
      },
      "execution_count": null,
      "outputs": [
        {
          "output_type": "stream",
          "name": "stdout",
          "text": [
            "--2022-05-06 02:14:41--  https://files.consumerfinance.gov/ccdb/complaints.csv.zip\n",
            "Resolving files.consumerfinance.gov (files.consumerfinance.gov)... 18.67.65.42, 18.67.65.67, 18.67.65.90, ...\n",
            "Connecting to files.consumerfinance.gov (files.consumerfinance.gov)|18.67.65.42|:443... connected.\n",
            "HTTP request sent, awaiting response... 416 Requested Range Not Satisfiable\n",
            "\n",
            "    The file is already fully retrieved; nothing to do.\n",
            "\n"
          ]
        }
      ]
    },
    {
      "cell_type": "code",
      "source": [
        "!unzip /content/drive/MyDrive/data/complaints.csv.zip -d /content/drive/MyDrive/data"
      ],
      "metadata": {
        "colab": {
          "base_uri": "https://localhost:8080/"
        },
        "id": "pHS1leSIJLjX",
        "outputId": "62bc62b0-672d-428c-fba2-8eb735432958"
      },
      "execution_count": null,
      "outputs": [
        {
          "output_type": "stream",
          "name": "stdout",
          "text": [
            "Archive:  /content/drive/MyDrive/data/complaints.csv.zip\n",
            "replace /content/drive/MyDrive/data/complaints.csv? [y]es, [n]o, [A]ll, [N]one, [r]ename: complaints_S\n",
            "error:  invalid response [complaint]\n",
            "replace /content/drive/MyDrive/data/complaints.csv? [y]es, [n]o, [A]ll, [N]one, [r]ename: error:  invalid response [s_S]\n",
            "replace /content/drive/MyDrive/data/complaints.csv? [y]es, [n]o, [A]ll, [N]one, [r]ename: y\n",
            "  inflating: /content/drive/MyDrive/data/complaints.csv  \n"
          ]
        }
      ]
    },
    {
      "cell_type": "code",
      "source": [
        "df_complaints_62 = spark.read.csv('/content/drive/MyDrive/data/complaints.csv', sep=',', header=True)"
      ],
      "metadata": {
        "id": "SZ908pq5JLlq"
      },
      "execution_count": null,
      "outputs": []
    },
    {
      "cell_type": "code",
      "source": [
        "df_complaints_62.show()"
      ],
      "metadata": {
        "colab": {
          "base_uri": "https://localhost:8080/"
        },
        "id": "2r-BU3rbJLn9",
        "outputId": "88b23e9b-a356-49a8-e355-4e4897c6d413"
      },
      "execution_count": null,
      "outputs": [
        {
          "output_type": "stream",
          "name": "stdout",
          "text": [
            "+-------------+--------------------+--------------------+--------------------+--------------------+----------------------------+-----------------------+--------------------+-----+--------+-------------+--------------------------+-------------+--------------------+----------------------------+----------------+------------------+------------+\n",
            "|Date received|             Product|         Sub-product|               Issue|           Sub-issue|Consumer complaint narrative|Company public response|             Company|State|ZIP code|         Tags|Consumer consent provided?|Submitted via|Date sent to company|Company response to consumer|Timely response?|Consumer disputed?|Complaint ID|\n",
            "+-------------+--------------------+--------------------+--------------------+--------------------+----------------------------+-----------------------+--------------------+-----+--------+-------------+--------------------------+-------------+--------------------+----------------------------+----------------+------------------+------------+\n",
            "|   2022-05-01|Credit reporting,...|    Credit reporting|Problem with a cr...|Was not notified ...|                        null|                   null|       EQUIFAX, INC.|   PA|   15146|         null|                      null|          Web|          2022-05-01|                 In progress|             Yes|               N/A|     5523011|\n",
            "|   2022-05-01|Credit reporting,...|    Credit reporting|Problem with a cr...|Was not notified ...|                        null|                   null|TRANSUNION INTERM...|   PA|   15146|         null|                      null|          Web|          2022-05-01|                 In progress|             Yes|               N/A|     5523012|\n",
            "|   2022-04-20|        Student loan|Federal student l...|Dealing with your...|Need information ...|                        null|                   null|           AES/PHEAA|   CO|   80111|         null|                      null|          Web|          2022-04-20|                 In progress|             Yes|               N/A|     5473412|\n",
            "|   2022-04-15|Checking or savin...|    Checking account| Managing an account|Deposits and with...|                        null|                   null|UNITED SERVICES A...|   FL|   32812|         null|                       N/A|     Referral|          2022-04-18|                 In progress|             Yes|               N/A|     5462556|\n",
            "|   2022-04-29|Credit reporting,...|    Credit reporting|Incorrect informa...|Information belon...|                        null|                   null|Fidelity National...|   CA|   92614|Servicemember|                      null|          Web|          2022-04-29|                 In progress|             Yes|               N/A|     5519070|\n",
            "|   2022-05-02|Credit reporting,...|    Credit reporting|Improper use of y...|Credit inquiries ...|                        null|                   null|TRANSUNION INTERM...|   FL|   33713|         null|                      null|          Web|          2022-05-02|                 In progress|             Yes|               N/A|     5529881|\n",
            "|   2022-03-19|     Debt collection|          Other debt|Communication tac...|Frequent or repea...|                        null|   Company has respo...|SUNRISE CREDIT SE...|   TX|   77583|Servicemember|      Consent not provided|          Web|          2022-03-19|        Closed with expla...|             Yes|               N/A|     5342064|\n",
            "|   2022-03-30|Checking or savin...|    Checking account| Managing an account|Deposits and with...|                        null|   Company has respo...|WELLS FARGO & COM...|   AZ|   85326|         null|                       N/A|     Referral|          2022-04-05|        Closed with expla...|             Yes|               N/A|     5407343|\n",
            "|   2022-04-12|Credit reporting,...|    Credit reporting|Improper use of y...|Reporting company...|                        null|                   null|       EQUIFAX, INC.|   IN|   46268|         null|                      null|          Web|          2022-04-12|        Closed with expla...|             Yes|               N/A|     5437518|\n",
            "|   2022-01-27|Credit reporting,...|    Credit reporting|Incorrect informa...|Information belon...|                        null|                   null|       EQUIFAX, INC.|   TX|   76137|         null|                     Other|          Web|          2022-01-27|        Closed with expla...|             Yes|               N/A|     5159042|\n",
            "|   2022-03-18|     Debt collection|        Medical debt|Attempts to colle...|   Debt is not yours|                        null|   Company believes ...|Professional Fina...|   NC|   28025|         null|      Consent not provided|          Web|          2022-03-18|        Closed with non-m...|             Yes|               N/A|     5340414|\n",
            "|   2022-03-29|Money transfer, v...|    Virtual currency|Other transaction...|                null|                        null|                   null|Winklevoss Exchan...|   CA|   92782|         null|                      null|          Web|          2022-03-29|        Closed with expla...|             Yes|               N/A|     5378999|\n",
            "|   2022-02-02|Credit reporting,...|    Credit reporting|Problem with a cr...|Investigation too...|                        null|   Company has respo...|TRANSUNION INTERM...|   NY|   12919|         null|      Consent not provided|          Web|          2022-02-02|        Closed with non-m...|             Yes|               N/A|     5177559|\n",
            "|   2022-03-14|Credit reporting,...|    Credit reporting|Incorrect informa...|Information belon...|                        null|                   null|       EQUIFAX, INC.|   WA|   98056|         null|                      null|          Web|          2022-03-14|        Closed with expla...|             Yes|               N/A|     5321616|\n",
            "|   2022-05-01|Credit reporting,...|    Credit reporting|Improper use of y...|Reporting company...|                        null|                   null|TRANSUNION INTERM...|   TX|   75126|         null|                      null|          Web|          2022-05-01|                 In progress|             Yes|               N/A|     5523094|\n",
            "|   2022-03-04|Credit card or pr...|General-purpose c...|    Fees or interest|   Problem with fees|        It should be ille...|                   null|CAPITAL ONE FINAN...|   MO|   63367|         null|          Consent provided|          Web|          2022-03-04|        Closed with expla...|             Yes|               N/A|     5284679|\n",
            "|   2022-03-04|Credit reporting,...|    Credit reporting|Incorrect informa...|Account informati...|        I have been a Koh...|                   null|CAPITAL ONE FINAN...|   IL|   60015|         null|          Consent provided|          Web|          2022-03-04|        Closed with non-m...|             Yes|               N/A|     5286409|\n",
            "|   2022-04-22|Credit reporting,...|    Credit reporting|Incorrect informa...|Information belon...|                        null|                   null|Experian Informat...|   NJ|   08081|         null|                      null|          Web|          2022-04-22|                 In progress|             Yes|               N/A|     5480129|\n",
            "|   2022-03-14|Credit reporting,...|    Credit reporting|Problem with a cr...|Investigation too...|                        null|                   null|       EQUIFAX, INC.|   GA|   31909|         null|                      null|          Web|          2022-03-14|        Closed with expla...|             Yes|               N/A|     5319887|\n",
            "|   2022-03-14|Credit reporting,...|    Credit reporting|Problem with a cr...|Their investigati...|                        null|                   null|       EQUIFAX, INC.|   OH|   44133|         null|                     Other|          Web|          2022-03-14|        Closed with expla...|             Yes|               N/A|     5320509|\n",
            "+-------------+--------------------+--------------------+--------------------+--------------------+----------------------------+-----------------------+--------------------+-----+--------+-------------+--------------------------+-------------+--------------------+----------------------------+----------------+------------------+------------+\n",
            "only showing top 20 rows\n",
            "\n"
          ]
        }
      ]
    },
    {
      "cell_type": "code",
      "source": [
        "df_complaints_63 = df_complaints_62.select(['Product','Consumer complaint narrative'])"
      ],
      "metadata": {
        "id": "xx7kUeqBKSVm"
      },
      "execution_count": null,
      "outputs": []
    },
    {
      "cell_type": "code",
      "source": [
        "df_complaints_63.show()"
      ],
      "metadata": {
        "colab": {
          "base_uri": "https://localhost:8080/"
        },
        "id": "G3wTX6iGKSYk",
        "outputId": "d7c356ec-50e6-49c9-fe99-4c8685890a62"
      },
      "execution_count": null,
      "outputs": [
        {
          "output_type": "stream",
          "name": "stdout",
          "text": [
            "+--------------------+----------------------------+\n",
            "|             Product|Consumer complaint narrative|\n",
            "+--------------------+----------------------------+\n",
            "|Credit reporting,...|                        null|\n",
            "|Credit reporting,...|                        null|\n",
            "|        Student loan|                        null|\n",
            "|Checking or savin...|                        null|\n",
            "|Credit reporting,...|                        null|\n",
            "|Credit reporting,...|                        null|\n",
            "|     Debt collection|                        null|\n",
            "|Checking or savin...|                        null|\n",
            "|Credit reporting,...|                        null|\n",
            "|Credit reporting,...|                        null|\n",
            "|     Debt collection|                        null|\n",
            "|Money transfer, v...|                        null|\n",
            "|Credit reporting,...|                        null|\n",
            "|Credit reporting,...|                        null|\n",
            "|Credit reporting,...|                        null|\n",
            "|Credit card or pr...|        It should be ille...|\n",
            "|Credit reporting,...|        I have been a Koh...|\n",
            "|Credit reporting,...|                        null|\n",
            "|Credit reporting,...|                        null|\n",
            "|Credit reporting,...|                        null|\n",
            "+--------------------+----------------------------+\n",
            "only showing top 20 rows\n",
            "\n"
          ]
        }
      ]
    },
    {
      "cell_type": "code",
      "source": [
        "df_complaints_64 = df_complaints_63.filter(df_complaints_63['Consumer complaint narrative'].isNotNull())"
      ],
      "metadata": {
        "id": "u9Ae-CmuKpn1"
      },
      "execution_count": null,
      "outputs": []
    },
    {
      "cell_type": "code",
      "source": [
        "df_complaints_64.show()"
      ],
      "metadata": {
        "colab": {
          "base_uri": "https://localhost:8080/"
        },
        "id": "Glg2qTk0KptK",
        "outputId": "3c7d271a-ff5f-4bcf-cbf5-6c215681c902"
      },
      "execution_count": null,
      "outputs": [
        {
          "output_type": "stream",
          "name": "stdout",
          "text": [
            "+--------------------+----------------------------+\n",
            "|             Product|Consumer complaint narrative|\n",
            "+--------------------+----------------------------+\n",
            "|Credit card or pr...|        It should be ille...|\n",
            "|Credit reporting,...|        I have been a Koh...|\n",
            "|Checking or savin...|        Banking services ...|\n",
            "| inoperable banki...|                       37381|\n",
            "|Credit reporting,...|        In accordance wit...|\n",
            "|Credit reporting,...|        hello dear agency...|\n",
            "|     Debt collection|        XX/XX/2022. The d...|\n",
            "|Credit reporting,...|        Notice to all, I,...|\n",
            "| Experian Report ...|                          NV|\n",
            "|Vehicle loan or l...|        Penfed Credit Uni...|\n",
            "|Credit reporting,...|        On XX/XX/XXXX of ...|\n",
            "|Credit reporting,...|        This is XXXX XXXX...|\n",
            "|Credit reporting,...|        XXXX accordance w...|\n",
            "|Company has respo...|               Servicemember|\n",
            "|Credit reporting,...|        My name is XXXX X...|\n",
            "|Credit reporting,...|        On XX/XX/2022 sen...|\n",
            "|Credit card or pr...|        I bought 2 {$100....|\n",
            "|Credit reporting,...|        I have already se...|\n",
            "|Credit reporting,...|        The IRS Clearly d...|\n",
            "|            verified|                          NY|\n",
            "+--------------------+----------------------------+\n",
            "only showing top 20 rows\n",
            "\n"
          ]
        }
      ]
    },
    {
      "cell_type": "code",
      "source": [
        "prod_list=[\"Mortgage\",\"Student loan\",\"Bank account or service\"]\n",
        "df_complaints_65=df_complaints_64.filter(df_complaints_64.Product.isin(prod_list))"
      ],
      "metadata": {
        "id": "THu7ser_KpwJ"
      },
      "execution_count": null,
      "outputs": []
    },
    {
      "cell_type": "code",
      "source": [
        "df_complaints_65.show()"
      ],
      "metadata": {
        "colab": {
          "base_uri": "https://localhost:8080/"
        },
        "id": "PUphhWyDLRKZ",
        "outputId": "81f2640d-fc7e-4f9a-d6e3-bb39a08c25f6"
      },
      "execution_count": null,
      "outputs": [
        {
          "output_type": "stream",
          "name": "stdout",
          "text": [
            "+------------+----------------------------+\n",
            "|     Product|Consumer complaint narrative|\n",
            "+------------+----------------------------+\n",
            "|    Mortgage|        My mother passed ...|\n",
            "|    Mortgage|        Bank of America d...|\n",
            "|    Mortgage|        \"I have an equity...|\n",
            "|    Mortgage|        I refinanced my h...|\n",
            "|    Mortgage|        XXXX XXXX Mortgag...|\n",
            "|    Mortgage|        Suntrust is sayin...|\n",
            "|    Mortgage|        see attached emai...|\n",
            "|    Mortgage|        XXXX OWNS SPECIAL...|\n",
            "|    Mortgage|        My mortgage compa...|\n",
            "|    Mortgage|        \"The mortgage loa...|\n",
            "|    Mortgage|        we have applied f...|\n",
            "|    Mortgage|        During the Covid ...|\n",
            "|    Mortgage|        I XXXX of XXXX I ...|\n",
            "|Student loan|        I have been in pu...|\n",
            "|    Mortgage|        On XX/XX/21, Hanc...|\n",
            "|    Mortgage|        Contacted Vanderb...|\n",
            "|    Mortgage|        LoanCare is my le...|\n",
            "|Student loan|        FedLoans has been...|\n",
            "|    Mortgage|        On or about mid X...|\n",
            "|    Mortgage|        Mr. Copper Mortga...|\n",
            "+------------+----------------------------+\n",
            "only showing top 20 rows\n",
            "\n"
          ]
        }
      ]
    },
    {
      "cell_type": "code",
      "source": [
        "(df_train, df_test) = df_complaints_65.randomSplit([0.8, 0.2], seed = 100)\n",
        "print (df_train.first())"
      ],
      "metadata": {
        "colab": {
          "base_uri": "https://localhost:8080/"
        },
        "id": "VNrjI26eLco8",
        "outputId": "1c3ce1d1-1ccd-4fe5-e32e-5e87a9f982cf"
      },
      "execution_count": null,
      "outputs": [
        {
          "output_type": "stream",
          "name": "stdout",
          "text": [
            "Row(Product='Bank account or service', Consumer complaint narrative='\"ATM Skimming device placed on XXXX MA, XXXX between XXXX XXXX and XXXX XXXX. Bank statement outlined \"\" CASH WITHDRAWAL XXXX XXXX XXXX XXXX XXXX XXXX US . on XXXX XXXX at XXXX XXXX. \\'\\' Santander alerted me via snail mail that my debit card may have been a victim of fraud and it was disabled. After noticing charges being declined')\n"
          ]
        }
      ]
    },
    {
      "cell_type": "code",
      "source": [
        "print(\"The total no. of records in the training data:\" ,df_train.count())"
      ],
      "metadata": {
        "colab": {
          "base_uri": "https://localhost:8080/"
        },
        "id": "wv2ACa82Lcr7",
        "outputId": "a3c468fa-ea41-4035-8cf6-2950f99b84a9"
      },
      "execution_count": null,
      "outputs": [
        {
          "output_type": "stream",
          "name": "stdout",
          "text": [
            "The total no. of records in the training data: 109096\n"
          ]
        }
      ]
    },
    {
      "cell_type": "code",
      "source": [
        "from pyspark.ml.feature import HashingTF, Tokenizer\n",
        "import re\n",
        "from pyspark.sql.functions import udf, length\n",
        "from pyspark.sql.types import StringType, ArrayType\n",
        "from pyspark.ml.feature import StopWordsRemover\n",
        "filter = re.compile(r\"^[a-zA-Z]+$\")\n",
        "match_udf = udf(lambda tokens: [token for token in tokens if filter.match(token)], ArrayType(StringType()))\n",
        "from nltk.stem.snowball import SnowballStemmer\n",
        "stemmer = SnowballStemmer(language='english')\n",
        "stemmer_udf = udf(lambda tokens: [stemmer.stem(token) for token in tokens], ArrayType(StringType()))"
      ],
      "metadata": {
        "id": "42qfihzqLcx8"
      },
      "execution_count": null,
      "outputs": []
    },
    {
      "cell_type": "code",
      "source": [
        "def to_features(df):\n",
        "  tokenizer = Tokenizer(inputCol=\"Consumer complaint narrative\", outputCol=\"words\")\n",
        "  wordsData = tokenizer.transform(df)\n",
        "  df_matched = wordsData.withColumn(\"words_matched\", match_udf(\"words\")). \\\n",
        "    select('Product', 'words_matched')\n",
        "  # Remove stop words\n",
        "  remover = StopWordsRemover(inputCol='words_matched', outputCol='words_clean')\n",
        "  df_words_clean = remover.transform(df_matched). \\\n",
        "    select('Product', 'words_clean')\n",
        "  # Stem text\n",
        "  df_stemmed = df_words_clean.withColumn(\"words_stemmed\", stemmer_udf(\"words_clean\")). \\\n",
        "    select('Product', 'words_stemmed')\n",
        "\n",
        "  # Generate vectors\n",
        "  hashingTF = HashingTF(inputCol=\"words_stemmed\", outputCol=\"rawFeatures\") \n",
        "  featurizedData = hashingTF.transform(df_stemmed)\n",
        "  return featurizedData"
      ],
      "metadata": {
        "id": "kLsfUq14LRNp"
      },
      "execution_count": null,
      "outputs": []
    },
    {
      "cell_type": "code",
      "source": [
        "\n",
        "df_train_features = to_features(df_train)\n",
        "df_train_features.show()"
      ],
      "metadata": {
        "colab": {
          "base_uri": "https://localhost:8080/"
        },
        "id": "zSo0ccaKNT2J",
        "outputId": "1a50e916-7404-4478-ff8b-76ea8b2dfad0"
      },
      "execution_count": null,
      "outputs": [
        {
          "output_type": "stream",
          "name": "stdout",
          "text": [
            "+--------------------+--------------------+--------------------+\n",
            "|             Product|       words_stemmed|         rawFeatures|\n",
            "+--------------------+--------------------+--------------------+\n",
            "|Bank account or s...|[skim, devic, pla...|(262144,[4226,659...|\n",
            "|Bank account or s...|[citibank, pull, ...|(262144,[5078,211...|\n",
            "|Bank account or s...|[america, cash, f...|(262144,[10529,21...|\n",
            "|Bank account or s...|[inform, sent, us...|(262144,[1218,538...|\n",
            "|Bank account or s...|[bank, close, bus...|(262144,[8473,253...|\n",
            "|Bank account or s...|[wrong, close, ch...|(262144,[13970,25...|\n",
            "|Bank account or s...|[charg, return, c...|(262144,[25262,25...|\n",
            "|Bank account or s...|[heavili, adverti...|(262144,[892,5381...|\n",
            "|Bank account or s...|[bank, xxxx, head...|(262144,[8538,153...|\n",
            "|Bank account or s...|[xxxx, secur, cre...|(262144,[25363,33...|\n",
            "|Bank account or s...|[updat, deposit, ...|(262144,[13970,25...|\n",
            "|Bank account or s...|[open, new, check...|(262144,[25363,67...|\n",
            "|Bank account or s...|[power, attorney,...|(262144,[3176,777...|\n",
            "|Bank account or s...|[write, complaint...|(262144,[5078,691...|\n",
            "|Bank account or s...|[write, complain,...|(262144,[13970,24...|\n",
            "|Bank account or s...|[deposit, cashier...|(262144,[4214,104...|\n",
            "|Bank account or s...|[deposit, check, ...|(262144,[3176,853...|\n",
            "|Bank account or s...|[deposit, check, ...|(262144,[3176,576...|\n",
            "|Bank account or s...|[xxxx, account, t...|(262144,[13970,16...|\n",
            "|Bank account or s...|[check, save, acc...|(262144,[5078,538...|\n",
            "+--------------------+--------------------+--------------------+\n",
            "only showing top 20 rows\n",
            "\n"
          ]
        }
      ]
    },
    {
      "cell_type": "code",
      "source": [
        "df_products = df_test.select(\"Product\").distinct()\n",
        "df_products.show()"
      ],
      "metadata": {
        "colab": {
          "base_uri": "https://localhost:8080/"
        },
        "id": "BfO58Ps_OzRL",
        "outputId": "91f74e6b-a629-40c8-914c-01c58010183c"
      },
      "execution_count": null,
      "outputs": [
        {
          "output_type": "stream",
          "name": "stdout",
          "text": [
            "+--------------------+\n",
            "|             Product|\n",
            "+--------------------+\n",
            "|            Mortgage|\n",
            "|Bank account or s...|\n",
            "|        Student loan|\n",
            "+--------------------+\n",
            "\n"
          ]
        }
      ]
    },
    {
      "cell_type": "code",
      "source": [
        "from pyspark.ml.feature import StringIndexer\n",
        "indexer = StringIndexer(inputCol = 'Product', outputCol = 'product_index')"
      ],
      "metadata": {
        "id": "2igKoNWlOzWJ"
      },
      "execution_count": null,
      "outputs": []
    },
    {
      "cell_type": "code",
      "source": [
        "df_products_indexed = indexer.fit(df_products).transform(df_products)\n",
        "df_products_indexed.show()"
      ],
      "metadata": {
        "colab": {
          "base_uri": "https://localhost:8080/"
        },
        "id": "Wuu4zFvrOzaJ",
        "outputId": "15c4f711-761d-4221-ccf8-45c9d77c4853"
      },
      "execution_count": null,
      "outputs": [
        {
          "output_type": "stream",
          "name": "stdout",
          "text": [
            "+--------------------+-------------+\n",
            "|             Product|product_index|\n",
            "+--------------------+-------------+\n",
            "|            Mortgage|          1.0|\n",
            "|Bank account or s...|          0.0|\n",
            "|        Student loan|          2.0|\n",
            "+--------------------+-------------+\n",
            "\n"
          ]
        }
      ]
    },
    {
      "cell_type": "code",
      "source": [
        "df_train_features_indexed = df_train_features.join(df_products_indexed, 'Product')\n",
        "df_train_features_indexed.show()"
      ],
      "metadata": {
        "colab": {
          "base_uri": "https://localhost:8080/"
        },
        "id": "tOEBu8OeNT5K",
        "outputId": "1b30b8ec-3808-4ba1-ced8-1c4beec42850"
      },
      "execution_count": null,
      "outputs": [
        {
          "output_type": "stream",
          "name": "stdout",
          "text": [
            "+--------+--------------------+--------------------+-------------+\n",
            "| Product|       words_stemmed|         rawFeatures|product_index|\n",
            "+--------+--------------------+--------------------+-------------+\n",
            "|Mortgage|     [payment, list]|(262144,[14376,21...|          1.0|\n",
            "|Mortgage|[well, fargo, ref...|(262144,[32128,75...|          1.0|\n",
            "|Mortgage|[xxxx, set, law, ...|(262144,[87595,18...|          1.0|\n",
            "|Mortgage|[alreadi, post, t...|(262144,[892,5078...|          1.0|\n",
            "|Mortgage|[new, inform, new...|(262144,[892,5078...|          1.0|\n",
            "|Mortgage|[intent, defraud,...|(262144,[5116,612...|          1.0|\n",
            "|Mortgage|[request, includ,...|(262144,[16474,36...|          1.0|\n",
            "|Mortgage|[month, ago, exac...|(262144,[4075,421...|          1.0|\n",
            "|Mortgage|[separ, complaint...|(262144,[5381,439...|          1.0|\n",
            "|Mortgage|[understand, home...|(262144,[12650,12...|          1.0|\n",
            "|Mortgage|[current, respons...|(262144,[126293,1...|          1.0|\n",
            "|Mortgage|[year, good, stan...|(262144,[11395,16...|          1.0|\n",
            "|Mortgage|[foreclosur, mort...|(262144,[4214,595...|          1.0|\n",
            "|Mortgage|[file, complaint,...|(262144,[13828,14...|          1.0|\n",
            "|Mortgage|[receiv, letter, ...|(262144,[991,4214...|          1.0|\n",
            "|Mortgage|[submit, complain...|(262144,[47597,51...|          1.0|\n",
            "|Mortgage|[mortgag, claim, ...|(262144,[1218,576...|          1.0|\n",
            "|Mortgage|[mortgag, also, o...|(262144,[2437,126...|          1.0|\n",
            "|Mortgage|[appli, loan, mod...|(262144,[892,1595...|          1.0|\n",
            "|Mortgage|[evidenc, enclos,...|(262144,[5913,101...|          1.0|\n",
            "+--------+--------------------+--------------------+-------------+\n",
            "only showing top 20 rows\n",
            "\n"
          ]
        }
      ]
    },
    {
      "cell_type": "code",
      "source": [
        "from pyspark.ml.classification import NaiveBayes\n",
        "   \n",
        "nb = NaiveBayes(labelCol=\"product_index\",\\\n",
        "    featuresCol=\"rawFeatures\", smoothing=1.0,\\\n",
        "    modelType=\"multinomial\")\n",
        "model = nb.fit(df_train_features_indexed)"
      ],
      "metadata": {
        "id": "PWV-zfbNNT75"
      },
      "execution_count": null,
      "outputs": []
    },
    {
      "cell_type": "code",
      "source": [
        "df_train_features_indexed.show()"
      ],
      "metadata": {
        "colab": {
          "base_uri": "https://localhost:8080/"
        },
        "id": "0kVIXC6CPWq6",
        "outputId": "ae1ad364-5456-4ac6-8b32-d42b0383bb4b"
      },
      "execution_count": null,
      "outputs": [
        {
          "output_type": "stream",
          "name": "stdout",
          "text": [
            "+--------+--------------------+--------------------+-------------+\n",
            "| Product|       words_stemmed|         rawFeatures|product_index|\n",
            "+--------+--------------------+--------------------+-------------+\n",
            "|Mortgage|     [payment, list]|(262144,[14376,21...|          1.0|\n",
            "|Mortgage|[well, fargo, ref...|(262144,[32128,75...|          1.0|\n",
            "|Mortgage|[xxxx, set, law, ...|(262144,[87595,18...|          1.0|\n",
            "|Mortgage|[alreadi, post, t...|(262144,[892,5078...|          1.0|\n",
            "|Mortgage|[new, inform, new...|(262144,[892,5078...|          1.0|\n",
            "|Mortgage|[intent, defraud,...|(262144,[5116,612...|          1.0|\n",
            "|Mortgage|[request, includ,...|(262144,[16474,36...|          1.0|\n",
            "|Mortgage|[month, ago, exac...|(262144,[4075,421...|          1.0|\n",
            "|Mortgage|[separ, complaint...|(262144,[5381,439...|          1.0|\n",
            "|Mortgage|[understand, home...|(262144,[12650,12...|          1.0|\n",
            "|Mortgage|[current, respons...|(262144,[126293,1...|          1.0|\n",
            "|Mortgage|[year, good, stan...|(262144,[11395,16...|          1.0|\n",
            "|Mortgage|[foreclosur, mort...|(262144,[4214,595...|          1.0|\n",
            "|Mortgage|[file, complaint,...|(262144,[13828,14...|          1.0|\n",
            "|Mortgage|[receiv, letter, ...|(262144,[991,4214...|          1.0|\n",
            "|Mortgage|[submit, complain...|(262144,[47597,51...|          1.0|\n",
            "|Mortgage|[mortgag, claim, ...|(262144,[1218,576...|          1.0|\n",
            "|Mortgage|[mortgag, also, o...|(262144,[2437,126...|          1.0|\n",
            "|Mortgage|[appli, loan, mod...|(262144,[892,1595...|          1.0|\n",
            "|Mortgage|[evidenc, enclos,...|(262144,[5913,101...|          1.0|\n",
            "+--------+--------------------+--------------------+-------------+\n",
            "only showing top 20 rows\n",
            "\n"
          ]
        }
      ]
    },
    {
      "cell_type": "code",
      "source": [
        "df_test_features = to_features(df_test)\n",
        "df_test_features.show()"
      ],
      "metadata": {
        "colab": {
          "base_uri": "https://localhost:8080/"
        },
        "id": "DNKqTV-FPWzo",
        "outputId": "00a71fa0-129f-4460-fd4e-1d73c28edff3"
      },
      "execution_count": null,
      "outputs": [
        {
          "output_type": "stream",
          "name": "stdout",
          "text": [
            "+--------------------+--------------------+--------------------+\n",
            "|             Product|       words_stemmed|         rawFeatures|\n",
            "+--------------------+--------------------+--------------------+\n",
            "|Bank account or s...|[give, fund, dire...|(262144,[1218,377...|\n",
            "|Bank account or s...|[bank, say, avail...|(262144,[13970,21...|\n",
            "|Bank account or s...|[bank, bought, ch...|(262144,[5381,157...|\n",
            "|Bank account or s...|[deposit, check, ...|(262144,[4214,139...|\n",
            "|Bank account or s...|[save, checj, yes...|(262144,[1218,243...|\n",
            "|Bank account or s...|[chase, custom, s...|(262144,[9177,126...|\n",
            "|Bank account or s...|[open, pinnacl, c...|(262144,[25363,12...|\n",
            "|Bank account or s...|[open, cap, one, ...|(262144,[5765,814...|\n",
            "|Bank account or s...|[open, onlin, ban...|(262144,[892,1218...|\n",
            "|Bank account or s...|[paid, xxxx, cred...|(262144,[4214,928...|\n",
            "|Bank account or s...|[receiv, letter, ...|(262144,[13970,25...|\n",
            "|Bank account or s...|[recent, open, xx...|(262144,[6122,139...|\n",
            "|Bank account or s...|[xxxx, sign, tria...|(262144,[2162,538...|\n",
            "|Bank account or s...|[occas, last, deb...|(262144,[5381,659...|\n",
            "|Bank account or s...|[went, local, key...|(262144,[1218,522...|\n",
            "|Bank account or s...|[xxxx, state, cal...|(262144,[25363,37...|\n",
            "|Bank account or s...|[dupliat, review,...|(262144,[1774,102...|\n",
            "|Bank account or s...|[two, year, ago, ...|(262144,[3992,852...|\n",
            "|Bank account or s...|[bank, america, c...|(262144,[25363,25...|\n",
            "|Bank account or s...|[fifth, third, ba...|(262144,[3176,218...|\n",
            "+--------------------+--------------------+--------------------+\n",
            "only showing top 20 rows\n",
            "\n"
          ]
        }
      ]
    },
    {
      "cell_type": "code",
      "source": [
        "df_test_features_indexed = df_test_features.join(df_products_indexed, 'Product')\n",
        "df_test_features_indexed.show()"
      ],
      "metadata": {
        "colab": {
          "base_uri": "https://localhost:8080/"
        },
        "id": "kcx9AiyxPW3K",
        "outputId": "19f9e254-b1b3-435d-84cb-9e6992b080f1"
      },
      "execution_count": null,
      "outputs": [
        {
          "output_type": "stream",
          "name": "stdout",
          "text": [
            "+--------+--------------------+--------------------+-------------+\n",
            "| Product|       words_stemmed|         rawFeatures|product_index|\n",
            "+--------+--------------------+--------------------+-------------+\n",
            "|Mortgage|[capit, one, matu...|(262144,[4075,595...|          1.0|\n",
            "|Mortgage|[parti, insur, cl...|(262144,[4214,178...|          1.0|\n",
            "|Mortgage|[call, multipl, n...|(262144,[925,3176...|          1.0|\n",
            "|Mortgage|[bank, america, h...|(262144,[16474,17...|          1.0|\n",
            "|Mortgage|[settlement, give...|(262144,[21161,25...|          1.0|\n",
            "|Mortgage|[charg, late, fee...|(262144,[4214,576...|          1.0|\n",
            "|Mortgage|[xxxx, xxxx, tran...|(262144,[22686,34...|          1.0|\n",
            "|Mortgage|[period, xxxx, xx...|(262144,[25042,31...|          1.0|\n",
            "|Mortgage|[usda, fix, inter...|(262144,[4214,538...|          1.0|\n",
            "|Mortgage|[write, today, we...|(262144,[5768,164...|          1.0|\n",
            "|Mortgage|[well, fargo, spo...|(262144,[16004,21...|          1.0|\n",
            "|Mortgage|[unfair, decept, ...|(262144,[1218,612...|          1.0|\n",
            "|Mortgage|[ask, help, finan...|(262144,[5381,185...|          1.0|\n",
            "|Mortgage|[await, respons, ...|(262144,[5385,853...|          1.0|\n",
            "|Mortgage|[purchas, constru...|(262144,[1218,421...|          1.0|\n",
            "|Mortgage|[submit, complain...|(262144,[12673,17...|          1.0|\n",
            "|Mortgage|[person, repres, ...|(262144,[16474,52...|          1.0|\n",
            "|Mortgage|[appli, loan, fbc...|(262144,[11429,12...|          1.0|\n",
            "|Mortgage|[began, process, ...|(262144,[2437,253...|          1.0|\n",
            "|Mortgage|[bought, home, fi...|(262144,[2090,104...|          1.0|\n",
            "+--------+--------------------+--------------------+-------------+\n",
            "only showing top 20 rows\n",
            "\n"
          ]
        }
      ]
    },
    {
      "cell_type": "code",
      "source": [
        "from pyspark.ml.evaluation import MulticlassClassificationEvaluator\n",
        "predictions = model.transform(df_test_features_indexed)\n",
        "predictions.select(\"Product\", \"product_index\", \n",
        "    \"probability\", \"prediction\").show()\n",
        "evaluator =\\\n",
        "    MulticlassClassificationEvaluator(labelCol=\"product_index\",\\\n",
        "    predictionCol=\"prediction\", metricName=\"accuracy\")\n",
        "accuracy = evaluator.evaluate(predictions)\n",
        "print(\"Test set accuracy = \" + str(accuracy))"
      ],
      "metadata": {
        "colab": {
          "base_uri": "https://localhost:8080/"
        },
        "id": "639t3gKVNT-b",
        "outputId": "050e17a6-4d49-4c71-b35e-7455c97e3f7c"
      },
      "execution_count": null,
      "outputs": [
        {
          "output_type": "stream",
          "name": "stdout",
          "text": [
            "+--------+-------------+--------------------+----------+\n",
            "| Product|product_index|         probability|prediction|\n",
            "+--------+-------------+--------------------+----------+\n",
            "|Mortgage|          1.0|[1.01311316166707...|       1.0|\n",
            "|Mortgage|          1.0|[1.70612602005219...|       1.0|\n",
            "|Mortgage|          1.0|[3.58696121726528...|       1.0|\n",
            "|Mortgage|          1.0|[0.64247281242875...|       0.0|\n",
            "|Mortgage|          1.0|[2.45036124765516...|       1.0|\n",
            "|Mortgage|          1.0|[1.37296402065919...|       1.0|\n",
            "|Mortgage|          1.0|[3.60775443177137...|       1.0|\n",
            "|Mortgage|          1.0|[1.72597573548195...|       1.0|\n",
            "|Mortgage|          1.0|[1.32698669756330...|       1.0|\n",
            "|Mortgage|          1.0|[6.09441457993384...|       1.0|\n",
            "|Mortgage|          1.0|[1.58460546663756...|       1.0|\n",
            "|Mortgage|          1.0|[8.75091351558510...|       1.0|\n",
            "|Mortgage|          1.0|[2.08266655345479...|       1.0|\n",
            "|Mortgage|          1.0|[4.28160416409425...|       1.0|\n",
            "|Mortgage|          1.0|[1.44244884516171...|       1.0|\n",
            "|Mortgage|          1.0|[7.6661801787377E...|       1.0|\n",
            "|Mortgage|          1.0|[5.08967309513244...|       1.0|\n",
            "|Mortgage|          1.0|[6.40234506611895...|       1.0|\n",
            "|Mortgage|          1.0|[2.01391135040976...|       1.0|\n",
            "|Mortgage|          1.0|[7.66601890554705...|       1.0|\n",
            "+--------+-------------+--------------------+----------+\n",
            "only showing top 20 rows\n",
            "\n",
            "Test set accuracy = 0.9430271800268535\n"
          ]
        }
      ]
    },
    {
      "cell_type": "code",
      "source": [
        ""
      ],
      "metadata": {
        "id": "xzan-HnhQDjz"
      },
      "execution_count": null,
      "outputs": []
    },
    {
      "cell_type": "code",
      "source": [
        ""
      ],
      "metadata": {
        "id": "vWX71hsTQDoB"
      },
      "execution_count": null,
      "outputs": []
    },
    {
      "cell_type": "code",
      "source": [
        ""
      ],
      "metadata": {
        "id": "puD3xkgIQDq_"
      },
      "execution_count": null,
      "outputs": []
    }
  ]
}