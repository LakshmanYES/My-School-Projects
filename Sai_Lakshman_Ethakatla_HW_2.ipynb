{
  "nbformat": 4,
  "nbformat_minor": 0,
  "metadata": {
    "colab": {
      "name": "Sai Lakshman Ethakatla HW-2.ipynb",
      "provenance": [],
      "collapsed_sections": [],
      "mount_file_id": "1X7No9eOd275CmJ4Ai4IDV_8F05ajfYnz",
      "authorship_tag": "ABX9TyM7KXMpJ49u6XrcwBEcXXbZ",
      "include_colab_link": true
    },
    "kernelspec": {
      "name": "python3",
      "display_name": "Python 3"
    },
    "language_info": {
      "name": "python"
    }
  },
  "cells": [
    {
      "cell_type": "markdown",
      "metadata": {
        "id": "view-in-github",
        "colab_type": "text"
      },
      "source": [
        "<a href=\"https://colab.research.google.com/github/LakshmanYES/My-School-Projects/blob/main/Sai_Lakshman_Ethakatla_HW_2.ipynb\" target=\"_parent\"><img src=\"https://colab.research.google.com/assets/colab-badge.svg\" alt=\"Open In Colab\"/></a>"
      ]
    },
    {
      "cell_type": "code",
      "execution_count": null,
      "metadata": {
        "id": "SVG28kDAzMl-"
      },
      "outputs": [],
      "source": [
        "# Spark init\n",
        "!wget -q https://dlcdn.apache.org/spark/spark-3.1.2/spark-3.1.2-bin-hadoop2.7.tgz \n",
        "!tar xf spark-3.1.2-bin-hadoop2.7.tgz\n",
        "import os\n",
        "os.environ[\"JAVA_HOME\"] = \"/usr/lib/jvm/default-java\"\n",
        "os.environ[\"SPARK_HOME\"] = \"/content/spark-3.1.2-bin-hadoop2.7\"\n",
        "!pip install -q findspark\n",
        "import findspark\n",
        "findspark.init()"
      ]
    },
    {
      "cell_type": "code",
      "source": [
        "from pyspark.sql.types import *\n",
        "from pyspark.sql import SparkSession\n",
        "\n",
        "spark = SparkSession.builder\\\n",
        "        .master(\"local\")\\\n",
        "        .appName(\"Colab\")\\\n",
        "        .config('spark.ui.port', '4050')\\\n",
        "        .getOrCreate()"
      ],
      "metadata": {
        "id": "e8KIOBYM6hvI"
      },
      "execution_count": null,
      "outputs": []
    },
    {
      "cell_type": "code",
      "source": [
        "custom_schema = StructType([\n",
        "        StructField(\"userId\", IntegerType(), True),\n",
        "        StructField(\"ISBN\", StringType(), True),\n",
        "        StructField(\"rating\", IntegerType(), True)\n",
        "    ])"
      ],
      "metadata": {
        "id": "yaAtfKs66h2P"
      },
      "execution_count": null,
      "outputs": []
    },
    {
      "cell_type": "code",
      "source": [
        "df_book_rating = spark.read.csv('/content/drive/MyDrive/Colab_notebook/BX-Book-Ratings.csv', sep=';',\n",
        "                         schema = custom_schema, header=True)"
      ],
      "metadata": {
        "id": "BMuE2M6tJ7wJ"
      },
      "execution_count": null,
      "outputs": []
    },
    {
      "cell_type": "code",
      "source": [
        "df_book_rating.show()"
      ],
      "metadata": {
        "colab": {
          "base_uri": "https://localhost:8080/"
        },
        "id": "SVFOPlNBJ7y1",
        "outputId": "82c856b1-14e9-4fd5-98c6-c386614cfb83"
      },
      "execution_count": null,
      "outputs": [
        {
          "output_type": "stream",
          "name": "stdout",
          "text": [
            "+------+----------+------+\n",
            "|userId|      ISBN|rating|\n",
            "+------+----------+------+\n",
            "|276725|034545104X|     0|\n",
            "|276726|0155061224|     5|\n",
            "|276727|0446520802|     0|\n",
            "|276729|052165615X|     3|\n",
            "|276729|0521795028|     6|\n",
            "|276733|2080674722|     0|\n",
            "|276736|3257224281|     8|\n",
            "|276737|0600570967|     6|\n",
            "|276744|038550120X|     7|\n",
            "|276745| 342310538|    10|\n",
            "|276746|0425115801|     0|\n",
            "|276746|0449006522|     0|\n",
            "|276746|0553561618|     0|\n",
            "|276746|055356451X|     0|\n",
            "|276746|0786013990|     0|\n",
            "|276746|0786014512|     0|\n",
            "|276747|0060517794|     9|\n",
            "|276747|0451192001|     0|\n",
            "|276747|0609801279|     0|\n",
            "|276747|0671537458|     9|\n",
            "+------+----------+------+\n",
            "only showing top 20 rows\n",
            "\n"
          ]
        }
      ]
    },
    {
      "cell_type": "code",
      "source": [
        "df_books_filtered = df_book_rating[df_book_rating['rating'] > 0]\n",
        "df_books_filtered.count()\n",
        "df_books_filtered.show()"
      ],
      "metadata": {
        "colab": {
          "base_uri": "https://localhost:8080/"
        },
        "id": "qxjH2l6aJ72U",
        "outputId": "9ee55b47-f0bf-4b19-ab09-2b2a7ed5fea2"
      },
      "execution_count": null,
      "outputs": [
        {
          "output_type": "stream",
          "name": "stdout",
          "text": [
            "+------+----------+------+\n",
            "|userId|      ISBN|rating|\n",
            "+------+----------+------+\n",
            "|276726|0155061224|     5|\n",
            "|276729|052165615X|     3|\n",
            "|276729|0521795028|     6|\n",
            "|276736|3257224281|     8|\n",
            "|276737|0600570967|     6|\n",
            "|276744|038550120X|     7|\n",
            "|276745| 342310538|    10|\n",
            "|276747|0060517794|     9|\n",
            "|276747|0671537458|     9|\n",
            "|276747|0679776818|     8|\n",
            "|276747|0943066433|     7|\n",
            "|276747|1885408226|     7|\n",
            "|276748|0747558167|     6|\n",
            "|276751|3596218098|     8|\n",
            "|276754|0684867621|     8|\n",
            "|276755|0451166892|     5|\n",
            "|276760|8440682697|    10|\n",
            "|276762|0380711524|     5|\n",
            "|276762|3453092007|     8|\n",
            "|276762|3453213025|     3|\n",
            "+------+----------+------+\n",
            "only showing top 20 rows\n",
            "\n"
          ]
        }
      ]
    },
    {
      "cell_type": "code",
      "source": [
        "from pyspark.ml.feature import StringIndexer\n",
        "indexer = StringIndexer(inputCol=\"ISBN\", outputCol=\"isbn_index\")\n",
        "df_book_rating_indexed = indexer.fit(df_book_rating).transform(df_books_filtered)\n",
        "df_book_rating_indexed.show()\n",
        "df_book_rating_indexed.count()"
      ],
      "metadata": {
        "colab": {
          "base_uri": "https://localhost:8080/"
        },
        "id": "Salejao76h5o",
        "outputId": "3f84c1f4-9003-4d4d-e5e1-4aaf11dab4b0"
      },
      "execution_count": null,
      "outputs": [
        {
          "output_type": "stream",
          "name": "stdout",
          "text": [
            "+------+----------+------+----------+\n",
            "|userId|      ISBN|rating|isbn_index|\n",
            "+------+----------+------+----------+\n",
            "|276726|0155061224|     5|   89067.0|\n",
            "|276729|052165615X|     3|  205984.0|\n",
            "|276729|0521795028|     6|  206014.0|\n",
            "|276736|3257224281|     8|   43132.0|\n",
            "|276737|0600570967|     6|  216574.0|\n",
            "|276744|038550120X|     7|     232.0|\n",
            "|276745| 342310538|    10|  135627.0|\n",
            "|276747|0060517794|     9|    1413.0|\n",
            "|276747|0671537458|     9|     914.0|\n",
            "|276747|0679776818|     8|    2367.0|\n",
            "|276747|0943066433|     7|  273158.0|\n",
            "|276747|1885408226|     7|  296143.0|\n",
            "|276748|0747558167|     6|   53332.0|\n",
            "|276751|3596218098|     8|   28525.0|\n",
            "|276754|0684867621|     8|     562.0|\n",
            "|276755|0451166892|     5|     148.0|\n",
            "|276760|8440682697|    10|  325376.0|\n",
            "|276762|0380711524|     5|    2387.0|\n",
            "|276762|3453092007|     8|   43258.0|\n",
            "|276762|3453213025|     3|  310147.0|\n",
            "+------+----------+------+----------+\n",
            "only showing top 20 rows\n",
            "\n"
          ]
        },
        {
          "output_type": "execute_result",
          "data": {
            "text/plain": [
              "433671"
            ]
          },
          "metadata": {},
          "execution_count": 10
        }
      ]
    },
    {
      "cell_type": "code",
      "source": [
        "# Import the required functions\n",
        "from pyspark.ml.evaluation import RegressionEvaluator\n",
        "from pyspark.ml.recommendation import ALS\n",
        "from pyspark.ml.tuning import ParamGridBuilder, CrossValidator"
      ],
      "metadata": {
        "id": "LpSML1LYQ6Ns"
      },
      "execution_count": null,
      "outputs": []
    },
    {
      "cell_type": "code",
      "source": [
        "# Create test and train set\n",
        "(training, test) = df_book_rating_indexed.randomSplit([0.8, 0.2], seed = 100)\n",
        "print (training.first())"
      ],
      "metadata": {
        "colab": {
          "base_uri": "https://localhost:8080/"
        },
        "id": "fOkOAFdzQ6TM",
        "outputId": "e3a5abbc-13c2-4bcc-c5e5-a776503bb3f0"
      },
      "execution_count": null,
      "outputs": [
        {
          "output_type": "stream",
          "name": "stdout",
          "text": [
            "Row(userId=8, ISBN='0002005018', rating=5, isbn_index=10774.0)\n"
          ]
        }
      ]
    },
    {
      "cell_type": "code",
      "source": [
        "# Create ALS model\n",
        "als = ALS(maxIter=5, regParam=0.01, userCol=\"userId\", itemCol=\"isbn_index\", ratingCol=\"rating\",\n",
        "          coldStartStrategy=\"drop\")\n",
        "model = als.fit(training)"
      ],
      "metadata": {
        "id": "qz8ByGUVQ6YR"
      },
      "execution_count": null,
      "outputs": []
    },
    {
      "cell_type": "code",
      "source": [
        "print (\"Total  user in training data \", model.userFactors.count())\n",
        "print (\"Total books in the training data \", model.itemFactors.count())"
      ],
      "metadata": {
        "colab": {
          "base_uri": "https://localhost:8080/"
        },
        "id": "1aOHx4egRzY4",
        "outputId": "9266536e-9a24-431b-8821-4e7bbcb9b32e"
      },
      "execution_count": null,
      "outputs": [
        {
          "output_type": "stream",
          "name": "stdout",
          "text": [
            "Total  user in training data  68403\n",
            "Total books in the training data  159035\n"
          ]
        }
      ]
    },
    {
      "cell_type": "code",
      "source": [
        "predictions = model.transform(test)\n",
        "evaluator = RegressionEvaluator(metricName=\"rmse\", labelCol=\"rating\",\n",
        "                                predictionCol=\"prediction\")"
      ],
      "metadata": {
        "id": "ZwJSwimrR43F"
      },
      "execution_count": null,
      "outputs": []
    },
    {
      "cell_type": "code",
      "source": [
        "predictions.show()"
      ],
      "metadata": {
        "colab": {
          "base_uri": "https://localhost:8080/"
        },
        "id": "DoL6qsaOR5C8",
        "outputId": "04162683-3bd0-442e-ae1f-c382e2bf5cb5"
      },
      "execution_count": null,
      "outputs": [
        {
          "output_type": "stream",
          "name": "stdout",
          "text": [
            "+------+----------+------+----------+----------+\n",
            "|userId|      ISBN|rating|isbn_index|prediction|\n",
            "+------+----------+------+----------+----------+\n",
            "|114089|0451166892|     8|     148.0|  5.596349|\n",
            "|217740|0451166892|     8|     148.0|-0.7508993|\n",
            "| 94985|0451166892|     8|     148.0|   3.97499|\n",
            "| 28204|0451166892|    10|     148.0|  10.02032|\n",
            "|246507|0451166892|    10|     148.0|  6.158074|\n",
            "| 48025|0451166892|     9|     148.0| 3.1237543|\n",
            "|216010|0451166892|     9|     148.0| 6.6962337|\n",
            "|204790|0451166892|     8|     148.0| 14.576223|\n",
            "| 33179|0451166892|    10|     148.0| 6.3083963|\n",
            "| 11629|0451166892|     8|     148.0| -1.060991|\n",
            "|  5268|0451166892|    10|     148.0| 1.7691737|\n",
            "|114988|0451166892|     7|     148.0| 4.5640116|\n",
            "| 79942|0451166892|    10|     148.0|  2.366581|\n",
            "| 17003|0142004235|     9|     463.0|  -6.56421|\n",
            "|171055|0142004235|     7|     463.0| -2.832954|\n",
            "|  9226|0142004235|     9|     463.0|-5.0983434|\n",
            "| 68721|0142004235|     8|     463.0|  5.040035|\n",
            "| 64436|0142004235|     9|     463.0|-14.692992|\n",
            "| 53304|0142004235|     3|     463.0| -2.830186|\n",
            "| 54911|0142004235|    10|     463.0|  0.662796|\n",
            "+------+----------+------+----------+----------+\n",
            "only showing top 20 rows\n",
            "\n"
          ]
        }
      ]
    },
    {
      "cell_type": "code",
      "source": [
        "rmse = evaluator.evaluate(predictions)\n",
        "print(\"Root-mean-square error = \" + str(rmse))"
      ],
      "metadata": {
        "colab": {
          "base_uri": "https://localhost:8080/"
        },
        "id": "U6bVfdKdSGAu",
        "outputId": "40ade8d5-4208-4029-b285-5b66e65128ac"
      },
      "execution_count": null,
      "outputs": [
        {
          "output_type": "stream",
          "name": "stdout",
          "text": [
            "Root-mean-square error = 9.086747966844355\n"
          ]
        }
      ]
    },
    {
      "cell_type": "code",
      "source": [
        "users = df_book_rating_indexed.select(als.getUserCol()).distinct().limit(3)\n",
        "userSubsetRecs = model.recommendForUserSubset(users, 5)\n",
        "\n",
        "userSubsetRecs.show(truncate=False)"
      ],
      "metadata": {
        "colab": {
          "base_uri": "https://localhost:8080/"
        },
        "id": "DkfAn42PSGKF",
        "outputId": "e0b1ef4d-aae4-4f2a-aed6-a67753054b08"
      },
      "execution_count": null,
      "outputs": [
        {
          "output_type": "stream",
          "name": "stdout",
          "text": [
            "+------+--------------------------------------------------------------------------------------------------+\n",
            "|userId|recommendations                                                                                   |\n",
            "+------+--------------------------------------------------------------------------------------------------+\n",
            "|1591  |[{10950, 11.055745}, {1970, 9.999588}, {6272, 9.928529}, {5245, 9.74199}, {2394, 9.6393175}]      |\n",
            "|463   |[{15987, 16.31985}, {3188, 15.8176365}, {5805, 15.776455}, {3881, 15.704398}, {4630, 15.640852}]  |\n",
            "|496   |[{24548, 14.186534}, {4029, 13.705001}, {7447, 13.683207}, {10967, 13.605435}, {13473, 13.327509}]|\n",
            "+------+--------------------------------------------------------------------------------------------------+\n",
            "\n"
          ]
        }
      ]
    },
    {
      "cell_type": "code",
      "source": [
        "from pyspark.sql.functions import *"
      ],
      "metadata": {
        "id": "ent9bA0IRzhP"
      },
      "execution_count": null,
      "outputs": []
    },
    {
      "cell_type": "code",
      "source": [
        "df_explode = userSubsetRecs.withColumn('recomm_pair', explode('recommendations'))\n",
        "df_explode.show()"
      ],
      "metadata": {
        "colab": {
          "base_uri": "https://localhost:8080/"
        },
        "id": "H_XtpXZgD5bc",
        "outputId": "bdf396a1-8df3-45c0-e4ad-ed371b13ac43"
      },
      "execution_count": null,
      "outputs": [
        {
          "output_type": "stream",
          "name": "stdout",
          "text": [
            "+------+--------------------+------------------+\n",
            "|userId|     recommendations|       recomm_pair|\n",
            "+------+--------------------+------------------+\n",
            "|  1591|[{10950, 11.05574...|{10950, 11.055745}|\n",
            "|  1591|[{10950, 11.05574...|  {1970, 9.999588}|\n",
            "|  1591|[{10950, 11.05574...|  {6272, 9.928529}|\n",
            "|  1591|[{10950, 11.05574...|   {5245, 9.74199}|\n",
            "|  1591|[{10950, 11.05574...| {2394, 9.6393175}|\n",
            "|   463|[{15987, 16.31985...| {15987, 16.31985}|\n",
            "|   463|[{15987, 16.31985...|{3188, 15.8176365}|\n",
            "|   463|[{15987, 16.31985...| {5805, 15.776455}|\n",
            "|   463|[{15987, 16.31985...| {3881, 15.704398}|\n",
            "|   463|[{15987, 16.31985...| {4630, 15.640852}|\n",
            "|   496|[{24548, 14.18653...|{24548, 14.186534}|\n",
            "|   496|[{24548, 14.18653...| {4029, 13.705001}|\n",
            "|   496|[{24548, 14.18653...| {7447, 13.683207}|\n",
            "|   496|[{24548, 14.18653...|{10967, 13.605435}|\n",
            "|   496|[{24548, 14.18653...|{13473, 13.327509}|\n",
            "+------+--------------------+------------------+\n",
            "\n"
          ]
        }
      ]
    },
    {
      "cell_type": "code",
      "source": [
        "\n",
        "df_explode = df_explode.select('userId', col('recomm_pair.isbn_index'), col('recomm_pair.rating'))\n",
        "df_explode.show()"
      ],
      "metadata": {
        "colab": {
          "base_uri": "https://localhost:8080/"
        },
        "id": "WoS8ZtSxD5e7",
        "outputId": "f53d24dd-41e6-4842-9484-4657c6a25e11"
      },
      "execution_count": null,
      "outputs": [
        {
          "output_type": "stream",
          "name": "stdout",
          "text": [
            "+------+----------+----------+\n",
            "|userId|isbn_index|    rating|\n",
            "+------+----------+----------+\n",
            "|  1591|     10950| 11.055745|\n",
            "|  1591|      1970|  9.999588|\n",
            "|  1591|      6272|  9.928529|\n",
            "|  1591|      5245|   9.74199|\n",
            "|  1591|      2394| 9.6393175|\n",
            "|   463|     15987|  16.31985|\n",
            "|   463|      3188|15.8176365|\n",
            "|   463|      5805| 15.776455|\n",
            "|   463|      3881| 15.704398|\n",
            "|   463|      4630| 15.640852|\n",
            "|   496|     24548| 14.186534|\n",
            "|   496|      4029| 13.705001|\n",
            "|   496|      7447| 13.683207|\n",
            "|   496|     10967| 13.605435|\n",
            "|   496|     13473| 13.327509|\n",
            "+------+----------+----------+\n",
            "\n"
          ]
        }
      ]
    },
    {
      "cell_type": "code",
      "source": [
        "\n",
        "book_schema = StructType([\n",
        "        StructField(\"ISBN\", StringType(), True),\n",
        "        StructField(\"BookTitle\", StringType(), True),\n",
        "        StructField(\"BookAuthor\", StringType(), True),\n",
        "        StructField(\"YearOfPublication\", StringType(), True),\n",
        "        StructField(\"Publisher\", StringType(), True),\n",
        "        StructField(\"ImageURLS\", StringType(), True),\n",
        "        StructField(\"ImageURLM\", StringType(), True),\n",
        "        StructField(\"ImageURLL\", StringType(), True)\n",
        "    ])"
      ],
      "metadata": {
        "id": "56-9is1tD5ic"
      },
      "execution_count": null,
      "outputs": []
    },
    {
      "cell_type": "code",
      "source": [
        "\n",
        "df_books_data = spark.read.csv('/content/drive/MyDrive/Colab_notebook/BX-Books.csv', sep=';',\n",
        "                         schema = book_schema, header=True)"
      ],
      "metadata": {
        "id": "UR0DNDwy9zix"
      },
      "execution_count": null,
      "outputs": []
    },
    {
      "cell_type": "code",
      "source": [
        "df_books_data.show()\n",
        "df_books_data.count()"
      ],
      "metadata": {
        "colab": {
          "base_uri": "https://localhost:8080/"
        },
        "id": "NOIy2CRo9zlX",
        "outputId": "ab063b5f-ba0f-4fac-927c-ad5b54510f8e"
      },
      "execution_count": null,
      "outputs": [
        {
          "output_type": "stream",
          "name": "stdout",
          "text": [
            "+----------+--------------------+--------------------+-----------------+--------------------+--------------------+--------------------+--------------------+\n",
            "|      ISBN|           BookTitle|          BookAuthor|YearOfPublication|           Publisher|           ImageURLS|           ImageURLM|           ImageURLL|\n",
            "+----------+--------------------+--------------------+-----------------+--------------------+--------------------+--------------------+--------------------+\n",
            "|0195153448| Classical Mythology|  Mark P. O. Morford|             2002|Oxford University...|http://images.ama...|http://images.ama...|http://images.ama...|\n",
            "|0002005018|        Clara Callan|Richard Bruce Wright|             2001|HarperFlamingo Ca...|http://images.ama...|http://images.ama...|http://images.ama...|\n",
            "|0060973129|Decision in Normandy|        Carlo D'Este|             1991|     HarperPerennial|http://images.ama...|http://images.ama...|http://images.ama...|\n",
            "|0374157065|Flu: The Story of...|    Gina Bari Kolata|             1999|Farrar Straus Giroux|http://images.ama...|http://images.ama...|http://images.ama...|\n",
            "|0393045218|The Mummies of Ur...|     E. J. W. Barber|             1999|W. W. Norton &amp...|http://images.ama...|http://images.ama...|http://images.ama...|\n",
            "|0399135782|The Kitchen God's...|             Amy Tan|             1991|    Putnam Pub Group|http://images.ama...|http://images.ama...|http://images.ama...|\n",
            "|0425176428|What If?: The Wor...|       Robert Cowley|             2000|Berkley Publishin...|http://images.ama...|http://images.ama...|http://images.ama...|\n",
            "|0671870432|     PLEADING GUILTY|         Scott Turow|             1993|          Audioworks|http://images.ama...|http://images.ama...|http://images.ama...|\n",
            "|0679425608|Under the Black F...|     David Cordingly|             1996|        Random House|http://images.ama...|http://images.ama...|http://images.ama...|\n",
            "|074322678X|Where You'll Find...|         Ann Beattie|             2002|            Scribner|http://images.ama...|http://images.ama...|http://images.ama...|\n",
            "|0771074670|Nights Below Stat...|David Adams Richards|             1988|     Emblem Editions|http://images.ama...|http://images.ama...|http://images.ama...|\n",
            "|080652121X|Hitler's Secret B...|          Adam Lebor|             2000|       Citadel Press|http://images.ama...|http://images.ama...|http://images.ama...|\n",
            "|0887841740|  The Middle Stories|         Sheila Heti|             2004|House of Anansi P...|http://images.ama...|http://images.ama...|http://images.ama...|\n",
            "|1552041778|            Jane Doe|        R. J. Kaiser|             1999|          Mira Books|http://images.ama...|http://images.ama...|http://images.ama...|\n",
            "|1558746218|A Second Chicken ...|       Jack Canfield|             1998|Health Communicat...|http://images.ama...|http://images.ama...|http://images.ama...|\n",
            "|1567407781|The Witchfinder (...|   Loren D. Estleman|             1998|Brilliance Audio ...|http://images.ama...|http://images.ama...|http://images.ama...|\n",
            "|1575663937|More Cunning Than...|  Robert Hendrickson|             1999|Kensington Publis...|http://images.ama...|http://images.ama...|http://images.ama...|\n",
            "|1881320189|Goodbye to the Bu...|        Julia Oliver|             1994|      River City Pub|http://images.ama...|http://images.ama...|http://images.ama...|\n",
            "|0440234743|       The Testament|        John Grisham|             1999|                Dell|http://images.ama...|http://images.ama...|http://images.ama...|\n",
            "|0452264464|Beloved (Plume Co...|       Toni Morrison|             1994|               Plume|http://images.ama...|http://images.ama...|http://images.ama...|\n",
            "+----------+--------------------+--------------------+-----------------+--------------------+--------------------+--------------------+--------------------+\n",
            "only showing top 20 rows\n",
            "\n"
          ]
        },
        {
          "output_type": "execute_result",
          "data": {
            "text/plain": [
              "271379"
            ]
          },
          "metadata": {},
          "execution_count": 26
        }
      ]
    },
    {
      "cell_type": "code",
      "source": [
        "\n",
        "book_isbn_indexer = StringIndexer(inputCol=\"ISBN\", outputCol=\"isbn_index\")\n",
        "df_book_isbn_indexed = book_isbn_indexer.fit(df_books_data).transform(df_books_data)\n",
        "df_book_isbn_indexed.show()\n",
        "df_book_isbn_indexed.count()"
      ],
      "metadata": {
        "colab": {
          "base_uri": "https://localhost:8080/"
        },
        "id": "A-O6rW1i9zoL",
        "outputId": "1f9abd8f-8bf3-4ee2-fa28-bbbc10d1d2ae"
      },
      "execution_count": null,
      "outputs": [
        {
          "output_type": "stream",
          "name": "stdout",
          "text": [
            "+----------+--------------------+--------------------+-----------------+--------------------+--------------------+--------------------+--------------------+----------+\n",
            "|      ISBN|           BookTitle|          BookAuthor|YearOfPublication|           Publisher|           ImageURLS|           ImageURLM|           ImageURLL|isbn_index|\n",
            "+----------+--------------------+--------------------+-----------------+--------------------+--------------------+--------------------+--------------------+----------+\n",
            "|0195153448| Classical Mythology|  Mark P. O. Morford|             2002|Oxford University...|http://images.ama...|http://images.ama...|http://images.ama...|   25030.0|\n",
            "|0002005018|        Clara Callan|Richard Bruce Wright|             2001|HarperFlamingo Ca...|http://images.ama...|http://images.ama...|http://images.ama...|      73.0|\n",
            "|0060973129|Decision in Normandy|        Carlo D'Este|             1991|     HarperPerennial|http://images.ama...|http://images.ama...|http://images.ama...|    8212.0|\n",
            "|0374157065|Flu: The Story of...|    Gina Bari Kolata|             1999|Farrar Straus Giroux|http://images.ama...|http://images.ama...|http://images.ama...|   60203.0|\n",
            "|0393045218|The Mummies of Ur...|     E. J. W. Barber|             1999|W. W. Norton &amp...|http://images.ama...|http://images.ama...|http://images.ama...|   71716.0|\n",
            "|0399135782|The Kitchen God's...|             Amy Tan|             1991|    Putnam Pub Group|http://images.ama...|http://images.ama...|http://images.ama...|   77839.0|\n",
            "|0425176428|What If?: The Wor...|       Robert Cowley|             2000|Berkley Publishin...|http://images.ama...|http://images.ama...|http://images.ama...|   82575.0|\n",
            "|0671870432|     PLEADING GUILTY|         Scott Turow|             1993|          Audioworks|http://images.ama...|http://images.ama...|http://images.ama...|  141587.0|\n",
            "|0679425608|Under the Black F...|     David Cordingly|             1996|        Random House|http://images.ama...|http://images.ama...|http://images.ama...|  143542.0|\n",
            "|074322678X|Where You'll Find...|         Ann Beattie|             2002|            Scribner|http://images.ama...|http://images.ama...|http://images.ama...|  157822.0|\n",
            "|0771074670|Nights Below Stat...|David Adams Richards|             1988|     Emblem Editions|http://images.ama...|http://images.ama...|http://images.ama...|  166787.0|\n",
            "|080652121X|Hitler's Secret B...|          Adam Lebor|             2000|       Citadel Press|http://images.ama...|http://images.ama...|http://images.ama...|  177288.0|\n",
            "|0887841740|  The Middle Stories|         Sheila Heti|             2004|House of Anansi P...|http://images.ama...|http://images.ama...|http://images.ama...|  203482.0|\n",
            "|1552041778|            Jane Doe|        R. J. Kaiser|             1999|          Mira Books|http://images.ama...|http://images.ama...|http://images.ama...|  219485.0|\n",
            "|1558746218|A Second Chicken ...|       Jack Canfield|             1998|Health Communicat...|http://images.ama...|http://images.ama...|http://images.ama...|  222613.0|\n",
            "|1567407781|The Witchfinder (...|   Loren D. Estleman|             1998|Brilliance Audio ...|http://images.ama...|http://images.ama...|http://images.ama...|  227877.0|\n",
            "|1575663937|More Cunning Than...|  Robert Hendrickson|             1999|Kensington Publis...|http://images.ama...|http://images.ama...|http://images.ama...|  231748.0|\n",
            "|1881320189|Goodbye to the Bu...|        Julia Oliver|             1994|      River City Pub|http://images.ama...|http://images.ama...|http://images.ama...|  242500.0|\n",
            "|0440234743|       The Testament|        John Grisham|             1999|                Dell|http://images.ama...|http://images.ama...|http://images.ama...|   87556.0|\n",
            "|0452264464|Beloved (Plume Co...|       Toni Morrison|             1994|               Plume|http://images.ama...|http://images.ama...|http://images.ama...|  103717.0|\n",
            "+----------+--------------------+--------------------+-----------------+--------------------+--------------------+--------------------+--------------------+----------+\n",
            "only showing top 20 rows\n",
            "\n"
          ]
        },
        {
          "output_type": "execute_result",
          "data": {
            "text/plain": [
              "271379"
            ]
          },
          "metadata": {},
          "execution_count": 27
        }
      ]
    },
    {
      "cell_type": "code",
      "source": [
        "\n",
        "df_recom_book = df_explode.join(df_book_isbn_indexed, 'isbn_index',) \\\n",
        "                                                .select(df_explode['userId'], \n",
        "                                                df_explode['isbn_index'], \n",
        "                                                df_book_isbn_indexed['ISBN'],\n",
        "                                                df_book_isbn_indexed['BookTitle'])"
      ],
      "metadata": {
        "id": "_fAcJIhU9zrj"
      },
      "execution_count": null,
      "outputs": []
    },
    {
      "cell_type": "code",
      "source": [
        "df_recom_book.show(truncate=False)"
      ],
      "metadata": {
        "colab": {
          "base_uri": "https://localhost:8080/"
        },
        "id": "Hcd1NU4D9v8h",
        "outputId": "58dca726-21ce-4159-d348-962199780d88"
      },
      "execution_count": null,
      "outputs": [
        {
          "output_type": "stream",
          "name": "stdout",
          "text": [
            "+------+----------+----------+----------------------------------------------------------------------------------------------------+\n",
            "|userId|isbn_index|ISBN      |BookTitle                                                                                           |\n",
            "+------+----------+----------+----------------------------------------------------------------------------------------------------+\n",
            "|496   |24548     |0194216373|Cry, Freedom (Oxford Bookworms S.)                                                                  |\n",
            "|463   |15987     |0140092323|Lake Wobegon days                                                                                   |\n",
            "|463   |3881      |006016221X|Fairyland: A Novel                                                                                  |\n",
            "|463   |5805      |0060523867|The Confusion (The Baroque Cycle, Vol. 2)                                                           |\n",
            "|1591  |6272      |0060589914|Knocked Out by My Nunga-Nungas (rack) (Confessions of Georgia Nicolson)                             |\n",
            "|496   |13473     |0091831156|Welcome back                                                                                        |\n",
            "|496   |4029      |0060168900|The August Coup: The Truth and the Lessons                                                          |\n",
            "|1591  |1970      |0027420353|3 Pandas Planting : Counting Down to Help the Earth                                                 |\n",
            "|496   |10967     |0062517597|Up From Here: Reclaiming the Male Spirit: A Guide to Transforming Emotions into Power and Freedom   |\n",
            "|463   |3188      |0060005025|Elvis the Rooster Almost Goes to Heaven (I Can Read Book 3)                                         |\n",
            "|1591  |10950     |0062517155|Goddess Initiation : A Practical Celtic Program for Soul-Healing, Self-Fulfillment &amp; Wild Wisdom|\n",
            "|1591  |5245      |006028062X|The Princess Test (Princess Tales)                                                                  |\n",
            "|1591  |2394      |0028639588|The Complete Idiot's Guide to Zen Living (Complete Idiot's Guides (Lifestyle Paperback))            |\n",
            "|463   |4630      |0060193093|Dreamland                                                                                           |\n",
            "|496   |7447      |0060929855|3 Plays: Our Town, the Skin of Our Teeth, the Matchmaker (Perennial Classics)                       |\n",
            "+------+----------+----------+----------------------------------------------------------------------------------------------------+\n",
            "\n"
          ]
        }
      ]
    }
  ]
}